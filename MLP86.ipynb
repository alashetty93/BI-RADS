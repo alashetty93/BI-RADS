{
 "cells": [
  {
   "cell_type": "markdown",
   "metadata": {
    "id": "GUE6RcG5EPHI"
   },
   "source": [
    "# I. Breast Cancer Screening ML Model - Step by Step\n",
    "### Exploration of the use of Machine Learning to improve mammographic screening.\n",
    "\n",
    "For this analysis we use the Mammographic Mass Data Set found on the Kaggle Data Repository at the following location:\n",
    "\n",
    "[Mammographic Mass Data Set](https://www.kaggle.com/overratedgman/mammographic-mass-data-set)\n",
    "\n",
    "This dataset is the result of the work performed to investigate how machine learning can be used for breast cancer\n",
    "screening by Elter, Schulz-Wendtland, and Wittenberg (2007).\n",
    "\n",
    "Mammography is widely accepted as the most effective screening tool to diagnose breast cancer at the moment. However,\n",
    " 5% to 10% of mammograms are referred for further investigation by way of biopsy due to inconclusive or abnormal\n",
    " results. It is this 5 - 10% of cases that ML is seeking to address. By using the Breast Imaging-Reporting and Data\n",
    " System (BI-RADS) and other characteristics of mammographs, the study aimed to improve mammographic screening with\n",
    " machine learning techniques in order to reduce the 5 - 10% screening referrals (Elter, Schulz-Wendtland & Wittenberg,\n",
    " 2007).\n",
    "\n",
    "The Data Dictionary for this dataset is as follows:\n",
    "\n",
    "| Variable | Definition | Type |\n",
    "|----------|------------|-----|\n",
    "| score | BI-RADS assessment: 0–5\t| Ordinal |\n",
    "| age | Patient’s age in years  | Continuous |\n",
    "| shape | Mass shape: round=1, oval=2, lobular=3, and irregular=4 | Categorical |\n",
    "| margin | Mass margin: circumscribed=1, microlobulated=2, obscured=3, ill-defined=4, and spiculated=5 | Categorical |\n",
    "| density | Mass density: high=1, iso=2, low=3, and fat-containing=4 | Ordinal |\n",
    "| malignant | benign=FALSE and malignant=TRUE | Boolean |\n",
    "\n",
    "In this notebook we will do some high level analyses, implement ML pipelines for simple ML model comparison and\n",
    "investigate the use of Response Curve otherwise known as Partial Dependency Plots for investigation of the\n",
    "relationship between various features and the responses. The PDPs also indicate how well the model fits the data from\n",
    " the perspective of different features, and is hence useful from two different perspectives."
   ]
  },
  {
   "cell_type": "code",
   "execution_count": 1,
   "metadata": {
    "_kg_hide-input": true,
    "execution": {
     "iopub.execute_input": "2023-02-10T09:48:53.065408Z",
     "iopub.status.busy": "2023-02-10T09:48:53.065038Z",
     "iopub.status.idle": "2023-02-10T09:48:54.333240Z",
     "shell.execute_reply": "2023-02-10T09:48:54.332131Z",
     "shell.execute_reply.started": "2023-02-10T09:48:53.065378Z"
    },
    "id": "d6yPDwE1O87Q"
   },
   "outputs": [],
   "source": [
    "import pandas as pd\n",
    "import seaborn as sns\n",
    "from sklearn.ensemble import RandomForestClassifier\n",
    "from sklearn.ensemble import VotingClassifier\n",
    "from sklearn.linear_model import LogisticRegression\n",
    "from sklearn.svm import SVC\n",
    "from sklearn.preprocessing import StandardScaler\n",
    "from sklearn.neural_network import MLPClassifier\n",
    "from sklearn.model_selection import train_test_split, cross_val_score\n",
    "from sklearn.metrics import accuracy_score\n",
    "import matplotlib.pyplot as plt\n",
    "import numpy as np"
   ]
  },
  {
   "cell_type": "markdown",
   "metadata": {},
   "source": [
    "<div class=\"alert alert-block alert-info\">\n",
    "<b>Load data</b>\n",
    "</div>"
   ]
  },
  {
   "cell_type": "code",
   "execution_count": 3,
   "metadata": {
    "_kg_hide-input": true,
    "execution": {
     "iopub.execute_input": "2023-02-10T09:48:54.335403Z",
     "iopub.status.busy": "2023-02-10T09:48:54.335014Z",
     "iopub.status.idle": "2023-02-10T09:48:54.362563Z",
     "shell.execute_reply": "2023-02-10T09:48:54.361493Z",
     "shell.execute_reply.started": "2023-02-10T09:48:54.335367Z"
    },
    "id": "XJjNMWNTDndh"
   },
   "outputs": [],
   "source": [
    "df = pd.read_csv('Cleaned_data.csv', delimiter = \",\")\n"
   ]
  },
  {
   "cell_type": "markdown",
   "metadata": {},
   "source": [
    "Let us have a look at the original data:"
   ]
  },
  {
   "cell_type": "code",
   "execution_count": 4,
   "metadata": {
    "_kg_hide-input": true,
    "execution": {
     "iopub.execute_input": "2023-02-10T09:48:54.364957Z",
     "iopub.status.busy": "2023-02-10T09:48:54.364596Z",
     "iopub.status.idle": "2023-02-10T09:48:54.374200Z",
     "shell.execute_reply": "2023-02-10T09:48:54.373017Z",
     "shell.execute_reply.started": "2023-02-10T09:48:54.364916Z"
    },
    "id": "UqPH3gyas1Ra"
   },
   "outputs": [
    {
     "data": {
      "text/plain": [
       "(830, 6)"
      ]
     },
     "execution_count": 4,
     "metadata": {},
     "output_type": "execute_result"
    }
   ],
   "source": [
    "df.shape\n"
   ]
  },
  {
   "cell_type": "code",
   "execution_count": 5,
   "metadata": {
    "_kg_hide-input": true,
    "execution": {
     "iopub.execute_input": "2023-02-10T09:48:54.377050Z",
     "iopub.status.busy": "2023-02-10T09:48:54.376349Z",
     "iopub.status.idle": "2023-02-10T09:48:54.404604Z",
     "shell.execute_reply": "2023-02-10T09:48:54.403626Z",
     "shell.execute_reply.started": "2023-02-10T09:48:54.376973Z"
    },
    "id": "mCI42UpLs1Re"
   },
   "outputs": [
    {
     "data": {
      "text/html": [
       "<div>\n",
       "<style scoped>\n",
       "    .dataframe tbody tr th:only-of-type {\n",
       "        vertical-align: middle;\n",
       "    }\n",
       "\n",
       "    .dataframe tbody tr th {\n",
       "        vertical-align: top;\n",
       "    }\n",
       "\n",
       "    .dataframe thead th {\n",
       "        text-align: right;\n",
       "    }\n",
       "</style>\n",
       "<table border=\"1\" class=\"dataframe\">\n",
       "  <thead>\n",
       "    <tr style=\"text-align: right;\">\n",
       "      <th></th>\n",
       "      <th>BI-RADS</th>\n",
       "      <th>Age</th>\n",
       "      <th>Shape</th>\n",
       "      <th>Margin</th>\n",
       "      <th>Density</th>\n",
       "      <th>Severity</th>\n",
       "    </tr>\n",
       "  </thead>\n",
       "  <tbody>\n",
       "    <tr>\n",
       "      <th>0</th>\n",
       "      <td>5</td>\n",
       "      <td>67</td>\n",
       "      <td>3</td>\n",
       "      <td>5</td>\n",
       "      <td>3</td>\n",
       "      <td>1</td>\n",
       "    </tr>\n",
       "    <tr>\n",
       "      <th>1</th>\n",
       "      <td>5</td>\n",
       "      <td>58</td>\n",
       "      <td>4</td>\n",
       "      <td>5</td>\n",
       "      <td>3</td>\n",
       "      <td>1</td>\n",
       "    </tr>\n",
       "    <tr>\n",
       "      <th>2</th>\n",
       "      <td>4</td>\n",
       "      <td>28</td>\n",
       "      <td>1</td>\n",
       "      <td>1</td>\n",
       "      <td>3</td>\n",
       "      <td>0</td>\n",
       "    </tr>\n",
       "    <tr>\n",
       "      <th>3</th>\n",
       "      <td>5</td>\n",
       "      <td>57</td>\n",
       "      <td>1</td>\n",
       "      <td>5</td>\n",
       "      <td>3</td>\n",
       "      <td>1</td>\n",
       "    </tr>\n",
       "    <tr>\n",
       "      <th>4</th>\n",
       "      <td>5</td>\n",
       "      <td>76</td>\n",
       "      <td>1</td>\n",
       "      <td>4</td>\n",
       "      <td>3</td>\n",
       "      <td>1</td>\n",
       "    </tr>\n",
       "  </tbody>\n",
       "</table>\n",
       "</div>"
      ],
      "text/plain": [
       "   BI-RADS  Age  Shape  Margin  Density  Severity\n",
       "0        5   67      3       5        3         1\n",
       "1        5   58      4       5        3         1\n",
       "2        4   28      1       1        3         0\n",
       "3        5   57      1       5        3         1\n",
       "4        5   76      1       4        3         1"
      ]
     },
     "execution_count": 5,
     "metadata": {},
     "output_type": "execute_result"
    }
   ],
   "source": [
    "df.head()\n"
   ]
  },
  {
   "cell_type": "code",
   "execution_count": 6,
   "metadata": {
    "_kg_hide-input": true,
    "execution": {
     "iopub.execute_input": "2023-02-10T09:48:54.406340Z",
     "iopub.status.busy": "2023-02-10T09:48:54.405998Z",
     "iopub.status.idle": "2023-02-10T09:48:54.410802Z",
     "shell.execute_reply": "2023-02-10T09:48:54.409470Z",
     "shell.execute_reply.started": "2023-02-10T09:48:54.406305Z"
    },
    "jupyter": {
     "outputs_hidden": false
    },
    "pycharm": {
     "name": "#%%\n"
    }
   },
   "outputs": [],
   "source": [
    "df_mam = df.copy()"
   ]
  },
  {
   "cell_type": "markdown",
   "metadata": {},
   "source": [
    "<div class=\"alert alert-block alert-info\">\n",
    "<b>Missing values</b>\n",
    "</div>"
   ]
  },
  {
   "cell_type": "markdown",
   "metadata": {},
   "source": [
    "We quantify the exact number of missing values in the data set:"
   ]
  },
  {
   "cell_type": "code",
   "execution_count": 7,
   "metadata": {
    "_kg_hide-input": true,
    "execution": {
     "iopub.execute_input": "2023-02-10T09:48:54.412801Z",
     "iopub.status.busy": "2023-02-10T09:48:54.412469Z",
     "iopub.status.idle": "2023-02-10T09:48:54.444432Z",
     "shell.execute_reply": "2023-02-10T09:48:54.443302Z",
     "shell.execute_reply.started": "2023-02-10T09:48:54.412767Z"
    },
    "jupyter": {
     "outputs_hidden": false
    },
    "pycharm": {
     "name": "#%%\n"
    }
   },
   "outputs": [],
   "source": [
    "# Check for null values\n",
    "missing_values_train = df_mam.isnull().sum()\n",
    "missing_values_train = missing_values_train.to_frame(name='num_missing')\n",
    "missing_values_train['perc_missing'] = (missing_values_train['num_missing']/df_mam.shape[0])*100\n",
    "for index, row in missing_values_train.iterrows():\n",
    "    if (row['num_missing'] > 0):\n",
    "        print (\"For \\\"%s\\\" the number of missing values are: %d (%.0f%%)\" %  (index,\n",
    "                                                                     row['num_missing'],\n",
    "                                                                    row['perc_missing']))"
   ]
  },
  {
   "cell_type": "markdown",
   "metadata": {},
   "source": [
    "There are no missing values! We got lucky with this dataset.\n",
    "\n",
    "We start by renaming columns to align with our data dictionary and then we One Hot Encode categorical variables."
   ]
  },
  {
   "cell_type": "code",
   "execution_count": 8,
   "metadata": {
    "_kg_hide-input": true,
    "execution": {
     "iopub.execute_input": "2023-02-10T09:48:54.446345Z",
     "iopub.status.busy": "2023-02-10T09:48:54.445788Z",
     "iopub.status.idle": "2023-02-10T09:48:54.463809Z",
     "shell.execute_reply": "2023-02-10T09:48:54.462698Z",
     "shell.execute_reply.started": "2023-02-10T09:48:54.446310Z"
    },
    "jupyter": {
     "outputs_hidden": false
    },
    "pycharm": {
     "name": "#%%\n"
    }
   },
   "outputs": [],
   "source": [
    "# Rename columns to align with our data dictionary.\n",
    "df_mam = df_mam.rename(columns = {'BI-RADS': 'score', 'Age': 'age', 'Shape': 'shape', 'Margin': 'margin', 'Density':\n",
    "    'density', 'Severity': 'malignanttrue'})\n",
    "df_mam_orig = df_mam.copy()\n",
    "\n",
    "categorical_cols = ['shape', 'margin']\n",
    "df_mam = pd.get_dummies(df_mam, columns = categorical_cols, drop_first=True)\n",
    "cols = list(df_mam.columns.values)\n",
    "quantitative_cols = ['score', 'shape', 'margin', 'density']\n",
    "\n",
    "# Re-order columns\n",
    "col_names = ['malignanttrue', 'score', 'age', 'shape_2', 'shape_3', 'shape_4', 'margin_2', 'margin_3', 'margin_4',\n",
    "             'margin_5', 'density']\n",
    "df_mam = df_mam[col_names]"
   ]
  },
  {
   "cell_type": "markdown",
   "metadata": {},
   "source": [
    "The dataset looks as follows now:"
   ]
  },
  {
   "cell_type": "code",
   "execution_count": 9,
   "metadata": {
    "_kg_hide-input": true,
    "execution": {
     "iopub.execute_input": "2023-02-10T09:48:54.467114Z",
     "iopub.status.busy": "2023-02-10T09:48:54.466490Z",
     "iopub.status.idle": "2023-02-10T09:48:54.483681Z",
     "shell.execute_reply": "2023-02-10T09:48:54.482587Z",
     "shell.execute_reply.started": "2023-02-10T09:48:54.467072Z"
    },
    "jupyter": {
     "outputs_hidden": false
    },
    "pycharm": {
     "name": "#%%\n"
    }
   },
   "outputs": [
    {
     "data": {
      "text/html": [
       "<div>\n",
       "<style scoped>\n",
       "    .dataframe tbody tr th:only-of-type {\n",
       "        vertical-align: middle;\n",
       "    }\n",
       "\n",
       "    .dataframe tbody tr th {\n",
       "        vertical-align: top;\n",
       "    }\n",
       "\n",
       "    .dataframe thead th {\n",
       "        text-align: right;\n",
       "    }\n",
       "</style>\n",
       "<table border=\"1\" class=\"dataframe\">\n",
       "  <thead>\n",
       "    <tr style=\"text-align: right;\">\n",
       "      <th></th>\n",
       "      <th>malignanttrue</th>\n",
       "      <th>score</th>\n",
       "      <th>age</th>\n",
       "      <th>shape_2</th>\n",
       "      <th>shape_3</th>\n",
       "      <th>shape_4</th>\n",
       "      <th>margin_2</th>\n",
       "      <th>margin_3</th>\n",
       "      <th>margin_4</th>\n",
       "      <th>margin_5</th>\n",
       "      <th>density</th>\n",
       "    </tr>\n",
       "  </thead>\n",
       "  <tbody>\n",
       "    <tr>\n",
       "      <th>647</th>\n",
       "      <td>0</td>\n",
       "      <td>4</td>\n",
       "      <td>68</td>\n",
       "      <td>0</td>\n",
       "      <td>0</td>\n",
       "      <td>1</td>\n",
       "      <td>0</td>\n",
       "      <td>0</td>\n",
       "      <td>1</td>\n",
       "      <td>0</td>\n",
       "      <td>3</td>\n",
       "    </tr>\n",
       "    <tr>\n",
       "      <th>31</th>\n",
       "      <td>0</td>\n",
       "      <td>4</td>\n",
       "      <td>74</td>\n",
       "      <td>1</td>\n",
       "      <td>0</td>\n",
       "      <td>0</td>\n",
       "      <td>0</td>\n",
       "      <td>0</td>\n",
       "      <td>0</td>\n",
       "      <td>0</td>\n",
       "      <td>2</td>\n",
       "    </tr>\n",
       "    <tr>\n",
       "      <th>474</th>\n",
       "      <td>1</td>\n",
       "      <td>4</td>\n",
       "      <td>59</td>\n",
       "      <td>0</td>\n",
       "      <td>0</td>\n",
       "      <td>1</td>\n",
       "      <td>0</td>\n",
       "      <td>0</td>\n",
       "      <td>1</td>\n",
       "      <td>0</td>\n",
       "      <td>3</td>\n",
       "    </tr>\n",
       "    <tr>\n",
       "      <th>8</th>\n",
       "      <td>0</td>\n",
       "      <td>4</td>\n",
       "      <td>54</td>\n",
       "      <td>0</td>\n",
       "      <td>0</td>\n",
       "      <td>0</td>\n",
       "      <td>0</td>\n",
       "      <td>0</td>\n",
       "      <td>0</td>\n",
       "      <td>0</td>\n",
       "      <td>3</td>\n",
       "    </tr>\n",
       "    <tr>\n",
       "      <th>382</th>\n",
       "      <td>0</td>\n",
       "      <td>4</td>\n",
       "      <td>37</td>\n",
       "      <td>1</td>\n",
       "      <td>0</td>\n",
       "      <td>0</td>\n",
       "      <td>0</td>\n",
       "      <td>1</td>\n",
       "      <td>0</td>\n",
       "      <td>0</td>\n",
       "      <td>3</td>\n",
       "    </tr>\n",
       "    <tr>\n",
       "      <th>255</th>\n",
       "      <td>1</td>\n",
       "      <td>5</td>\n",
       "      <td>87</td>\n",
       "      <td>0</td>\n",
       "      <td>0</td>\n",
       "      <td>1</td>\n",
       "      <td>0</td>\n",
       "      <td>0</td>\n",
       "      <td>1</td>\n",
       "      <td>0</td>\n",
       "      <td>3</td>\n",
       "    </tr>\n",
       "    <tr>\n",
       "      <th>672</th>\n",
       "      <td>1</td>\n",
       "      <td>0</td>\n",
       "      <td>72</td>\n",
       "      <td>0</td>\n",
       "      <td>0</td>\n",
       "      <td>1</td>\n",
       "      <td>0</td>\n",
       "      <td>1</td>\n",
       "      <td>0</td>\n",
       "      <td>0</td>\n",
       "      <td>3</td>\n",
       "    </tr>\n",
       "    <tr>\n",
       "      <th>679</th>\n",
       "      <td>1</td>\n",
       "      <td>5</td>\n",
       "      <td>62</td>\n",
       "      <td>0</td>\n",
       "      <td>0</td>\n",
       "      <td>1</td>\n",
       "      <td>0</td>\n",
       "      <td>0</td>\n",
       "      <td>1</td>\n",
       "      <td>0</td>\n",
       "      <td>2</td>\n",
       "    </tr>\n",
       "    <tr>\n",
       "      <th>196</th>\n",
       "      <td>1</td>\n",
       "      <td>5</td>\n",
       "      <td>66</td>\n",
       "      <td>0</td>\n",
       "      <td>0</td>\n",
       "      <td>1</td>\n",
       "      <td>0</td>\n",
       "      <td>0</td>\n",
       "      <td>1</td>\n",
       "      <td>0</td>\n",
       "      <td>3</td>\n",
       "    </tr>\n",
       "    <tr>\n",
       "      <th>652</th>\n",
       "      <td>0</td>\n",
       "      <td>4</td>\n",
       "      <td>58</td>\n",
       "      <td>0</td>\n",
       "      <td>0</td>\n",
       "      <td>0</td>\n",
       "      <td>0</td>\n",
       "      <td>0</td>\n",
       "      <td>0</td>\n",
       "      <td>0</td>\n",
       "      <td>3</td>\n",
       "    </tr>\n",
       "  </tbody>\n",
       "</table>\n",
       "</div>"
      ],
      "text/plain": [
       "     malignanttrue  score  age  shape_2  shape_3  shape_4  margin_2  margin_3  \\\n",
       "647              0      4   68        0        0        1         0         0   \n",
       "31               0      4   74        1        0        0         0         0   \n",
       "474              1      4   59        0        0        1         0         0   \n",
       "8                0      4   54        0        0        0         0         0   \n",
       "382              0      4   37        1        0        0         0         1   \n",
       "255              1      5   87        0        0        1         0         0   \n",
       "672              1      0   72        0        0        1         0         1   \n",
       "679              1      5   62        0        0        1         0         0   \n",
       "196              1      5   66        0        0        1         0         0   \n",
       "652              0      4   58        0        0        0         0         0   \n",
       "\n",
       "     margin_4  margin_5  density  \n",
       "647         1         0        3  \n",
       "31          0         0        2  \n",
       "474         1         0        3  \n",
       "8           0         0        3  \n",
       "382         0         0        3  \n",
       "255         1         0        3  \n",
       "672         0         0        3  \n",
       "679         1         0        2  \n",
       "196         1         0        3  \n",
       "652         0         0        3  "
      ]
     },
     "execution_count": 9,
     "metadata": {},
     "output_type": "execute_result"
    }
   ],
   "source": [
    "df_mam.sample(10, random_state=0)"
   ]
  },
  {
   "cell_type": "markdown",
   "metadata": {},
   "source": [
    "<div class=\"alert alert-block alert-info\">\n",
    "<b>Exploration of data</b>\n",
    "</div>"
   ]
  },
  {
   "cell_type": "markdown",
   "metadata": {},
   "source": [
    "Now we analyse the distribution for patient age to get a feel for the data."
   ]
  },
  {
   "cell_type": "code",
   "execution_count": 10,
   "metadata": {
    "_kg_hide-input": true,
    "execution": {
     "iopub.execute_input": "2023-02-10T09:48:54.486993Z",
     "iopub.status.busy": "2023-02-10T09:48:54.486510Z",
     "iopub.status.idle": "2023-02-10T09:48:54.828042Z",
     "shell.execute_reply": "2023-02-10T09:48:54.826975Z",
     "shell.execute_reply.started": "2023-02-10T09:48:54.486941Z"
    },
    "jupyter": {
     "outputs_hidden": false
    },
    "pycharm": {
     "name": "#%%\n"
    }
   },
   "outputs": [
    {
     "data": {
      "image/png": "[encoded data removed]",
      "text/plain": [
       "<Figure size 720x576 with 1 Axes>"
      ]
     },
     "metadata": {
      "needs_background": "light"
     },
     "output_type": "display_data"
    }
   ],
   "source": [
    "# Continuous density plot\n",
    "fig_missing, axes = plt.subplots(1, 1, figsize=(10, 8))\n",
    "\n",
    "# Plot frequency plot/ histogram\n",
    "_ = sns.histplot(x=\"age\", kde=True, data=df_mam, ax=axes, bins=40);\n",
    "_ = axes.set(xlabel=\"Age\", ylabel='Density');\n",
    "axes.xaxis.label.set_size(18)\n",
    "axes.yaxis.label.set_size(18)\n",
    "axes.tick_params('y', labelsize = 14);\n",
    "axes.tick_params('x', labelsize = 14);"
   ]
  },
  {
   "cell_type": "markdown",
   "metadata": {},
   "source": [
    "Data seems fairly reasonable, no outliers. We will continue with analysis for now, and do a more in-depth EDA in a\n",
    "later notebook.\n",
    "\n"
   ]
  },
  {
   "cell_type": "code",
   "execution_count": 11,
   "metadata": {
    "_kg_hide-input": true,
    "execution": {
     "iopub.execute_input": "2023-02-10T09:48:54.829766Z",
     "iopub.status.busy": "2023-02-10T09:48:54.829455Z",
     "iopub.status.idle": "2023-02-10T09:48:54.840123Z",
     "shell.execute_reply": "2023-02-10T09:48:54.838935Z",
     "shell.execute_reply.started": "2023-02-10T09:48:54.829734Z"
    },
    "jupyter": {
     "outputs_hidden": false
    },
    "pycharm": {
     "name": "#%%\n"
    }
   },
   "outputs": [
    {
     "data": {
      "text/plain": [
       "4     468\n",
       "5     316\n",
       "3      24\n",
       "6       9\n",
       "2       7\n",
       "0       5\n",
       "55      1\n",
       "Name: score, dtype: int64"
      ]
     },
     "execution_count": 11,
     "metadata": {},
     "output_type": "execute_result"
    }
   ],
   "source": [
    "df_mam['score'].value_counts()"
   ]
  },
  {
   "cell_type": "markdown",
   "metadata": {
    "pycharm": {
     "name": "#%% md\n"
    }
   },
   "source": [
    "We observe that one value was probably incorrectly captured (as this score does not exist), we map the value of 55 to\n",
    " 5. "
   ]
  },
  {
   "cell_type": "code",
   "execution_count": 12,
   "metadata": {
    "_kg_hide-input": true,
    "execution": {
     "iopub.execute_input": "2023-02-10T09:48:54.842110Z",
     "iopub.status.busy": "2023-02-10T09:48:54.841778Z",
     "iopub.status.idle": "2023-02-10T09:48:54.854190Z",
     "shell.execute_reply": "2023-02-10T09:48:54.853026Z",
     "shell.execute_reply.started": "2023-02-10T09:48:54.842077Z"
    },
    "jupyter": {
     "outputs_hidden": false
    },
    "pycharm": {
     "name": "#%%\n"
    }
   },
   "outputs": [],
   "source": [
    "idx = df_mam[df_mam['score'] == 55].index\n",
    "df_mam.loc[idx, 'score'] = 5"
   ]
  },
  {
   "cell_type": "code",
   "execution_count": 13,
   "metadata": {
    "_kg_hide-input": true,
    "execution": {
     "iopub.execute_input": "2023-02-10T09:48:54.856221Z",
     "iopub.status.busy": "2023-02-10T09:48:54.855744Z",
     "iopub.status.idle": "2023-02-10T09:48:54.868215Z",
     "shell.execute_reply": "2023-02-10T09:48:54.867290Z",
     "shell.execute_reply.started": "2023-02-10T09:48:54.856170Z"
    },
    "jupyter": {
     "outputs_hidden": false
    },
    "pycharm": {
     "name": "#%%\n"
    }
   },
   "outputs": [
    {
     "data": {
      "text/plain": [
       "4    468\n",
       "5    317\n",
       "3     24\n",
       "6      9\n",
       "2      7\n",
       "0      5\n",
       "Name: score, dtype: int64"
      ]
     },
     "execution_count": 13,
     "metadata": {},
     "output_type": "execute_result"
    }
   ],
   "source": [
    "df_mam['score'].value_counts()"
   ]
  },
  {
   "cell_type": "markdown",
   "metadata": {
    "pycharm": {
     "name": "#%% md\n"
    }
   },
   "source": [
    "Data is not sorted and does not have a meaningful index for baseline. We sort data and create new index."
   ]
  },
  {
   "cell_type": "code",
   "execution_count": 14,
   "metadata": {
    "_kg_hide-input": true,
    "execution": {
     "iopub.execute_input": "2023-02-10T09:48:54.870026Z",
     "iopub.status.busy": "2023-02-10T09:48:54.869490Z",
     "iopub.status.idle": "2023-02-10T09:48:54.885371Z",
     "shell.execute_reply": "2023-02-10T09:48:54.884011Z",
     "shell.execute_reply.started": "2023-02-10T09:48:54.869980Z"
    },
    "jupyter": {
     "outputs_hidden": false
    },
    "pycharm": {
     "name": "#%%\n"
    }
   },
   "outputs": [],
   "source": [
    "df_mam = df_mam.sort_values(['age', 'score', 'density', 'malignanttrue'], ascending=[True, True, True, True])\n",
    "df_mam = df_mam.reset_index(drop=True)"
   ]
  },
  {
   "cell_type": "markdown",
   "metadata": {
    "pycharm": {
     "name": "#%% md\n"
    }
   },
   "source": [
    "Next we consider the categorical variables.\n",
    "\n",
    "We first look at the distribution of the response."
   ]
  },
  {
   "cell_type": "code",
   "execution_count": 15,
   "metadata": {
    "_kg_hide-input": true,
    "execution": {
     "iopub.execute_input": "2023-02-10T09:48:54.887235Z",
     "iopub.status.busy": "2023-02-10T09:48:54.886883Z",
     "iopub.status.idle": "2023-02-10T09:48:55.003063Z",
     "shell.execute_reply": "2023-02-10T09:48:55.001993Z",
     "shell.execute_reply.started": "2023-02-10T09:48:54.887202Z"
    },
    "jupyter": {
     "outputs_hidden": false
    },
    "pycharm": {
     "name": "#%%\n"
    }
   },
   "outputs": [
    {
     "data": {
      "image/png": "[encoded data removed]",
      "text/plain": [
       "<Figure size 432x288 with 1 Axes>"
      ]
     },
     "metadata": {
      "needs_background": "light"
     },
     "output_type": "display_data"
    }
   ],
   "source": [
    "_ = plt.figure()\n",
    "\n",
    "# Plot outcome counts.a\n",
    "outcome_counts = df_mam_orig['malignanttrue'].value_counts(normalize = True)\n",
    "legend_labels = ['Benign', 'Malignant']\n",
    "\n",
    "# change the background bar colors to be light grey\n",
    "bars = plt.bar(outcome_counts.index, outcome_counts.values, align='center', linewidth=0,\n",
    "               color='lightslategrey')\n",
    "# make one bar, the survived bar, a contrasting color\n",
    "bars[1].set_color('#1F77B4')\n",
    "\n",
    "# soften all labels by turning grey\n",
    "_ = plt.xticks(outcome_counts.index, legend_labels, fontsize=15, alpha=0.8)\n",
    "_ = plt.title('Diagnostic Outcome', fontsize=15, pad=30, alpha=0.8)\n",
    "\n",
    "# remove all the ticks (both axes), and tick labels on the Y axis\n",
    "plt.tick_params(top=False, bottom=False, left=False, right=False, labelleft=False,\n",
    "                labelbottom=True)\n",
    "\n",
    "# Remove the frame - my method\n",
    "ax = plt.gca()\n",
    "ax.set_frame_on(False)\n",
    "\n",
    "# Remove the frame of the chart - instructor's method\n",
    "#for spine in plt.gca().spines.values():\n",
    "#    spine.set_visible(False)\n",
    "\n",
    "# direct label each bar with Y axis values\n",
    "for bar in bars:\n",
    "    _ = plt.gca().text(bar.get_x() + bar.get_width()/2, bar.get_height() - 0.05,\n",
    "                       str(round((bar.get_height()*100))) + '%', ha='center', color='w',\n",
    "                       fontsize=15)\n",
    "\n",
    "plt.show()"
   ]
  },
  {
   "cell_type": "code",
   "execution_count": 16,
   "metadata": {
    "_kg_hide-input": true,
    "execution": {
     "iopub.execute_input": "2023-02-10T09:48:55.004580Z",
     "iopub.status.busy": "2023-02-10T09:48:55.004287Z",
     "iopub.status.idle": "2023-02-10T09:48:55.015143Z",
     "shell.execute_reply": "2023-02-10T09:48:55.013911Z",
     "shell.execute_reply.started": "2023-02-10T09:48:55.004550Z"
    },
    "jupyter": {
     "outputs_hidden": false
    },
    "pycharm": {
     "name": "#%%\n"
    }
   },
   "outputs": [
    {
     "data": {
      "text/plain": [
       "0    427\n",
       "1    403\n",
       "Name: malignanttrue, dtype: int64"
      ]
     },
     "execution_count": 16,
     "metadata": {},
     "output_type": "execute_result"
    }
   ],
   "source": [
    "df_mam['malignanttrue'].value_counts()"
   ]
  },
  {
   "cell_type": "markdown",
   "metadata": {},
   "source": [
    "We observe that the classes are well balanced. No need for boosting."
   ]
  },
  {
   "cell_type": "code",
   "execution_count": 17,
   "metadata": {
    "_kg_hide-input": true,
    "execution": {
     "iopub.execute_input": "2023-02-10T09:48:55.017075Z",
     "iopub.status.busy": "2023-02-10T09:48:55.016661Z",
     "iopub.status.idle": "2023-02-10T09:48:55.730068Z",
     "shell.execute_reply": "2023-02-10T09:48:55.728770Z",
     "shell.execute_reply.started": "2023-02-10T09:48:55.017039Z"
    },
    "jupyter": {
     "outputs_hidden": false
    },
    "pycharm": {
     "name": "#%%\n"
    }
   },
   "outputs": [
    {
     "data": {
      "image/png": "[encoded data removed]",
      "text/plain": [
       "<Figure size 1080x936 with 4 Axes>"
      ]
     },
     "metadata": {
      "needs_background": "light"
     },
     "output_type": "display_data"
    }
   ],
   "source": [
    "# Bar chart plot of categorical variables.\n",
    "fig, ax = plt.subplots(2, 2, figsize=(15, 13));\n",
    "for variable, subplot in zip(quantitative_cols, ax.flatten()):\n",
    "    subplot.xaxis.label.set_size(20)\n",
    "    subplot.yaxis.label.set_size(20)\n",
    "    subplot.tick_params('y', labelsize = 20);\n",
    "    subplot.tick_params('x', labelsize = 20);\n",
    "    cp = sns.countplot(x=df_mam_orig[variable], ax=subplot, palette='deep', order =\n",
    "    df_mam_orig[variable].value_counts().index);\n",
    "plt.tight_layout()"
   ]
  },
  {
   "cell_type": "markdown",
   "metadata": {
    "pycharm": {
     "name": "#%% md\n"
    }
   },
   "source": [
    "There is good variation in all the categorical variables. We will perform a more in depth analysis later."
   ]
  },
  {
   "cell_type": "markdown",
   "metadata": {},
   "source": [
    "<div class=\"alert alert-block alert-info\">\n",
    "<b>Build Models</b>\n",
    "</div>"
   ]
  },
  {
   "cell_type": "markdown",
   "metadata": {
    "pycharm": {
     "name": "#%% md\n"
    }
   },
   "source": [
    "We now build a baseline model followed by setting up a Voting Classifier."
   ]
  },
  {
   "cell_type": "code",
   "execution_count": 18,
   "metadata": {
    "_kg_hide-input": true,
    "execution": {
     "iopub.execute_input": "2023-02-10T09:48:55.732190Z",
     "iopub.status.busy": "2023-02-10T09:48:55.731726Z",
     "iopub.status.idle": "2023-02-10T09:48:55.738785Z",
     "shell.execute_reply": "2023-02-10T09:48:55.737662Z",
     "shell.execute_reply.started": "2023-02-10T09:48:55.732144Z"
    },
    "jupyter": {
     "outputs_hidden": false
    },
    "pycharm": {
     "name": "#%%\n"
    }
   },
   "outputs": [],
   "source": [
    "X = df_mam.iloc[:, np.r_[1:11]]\n",
    "y = df_mam.iloc[:, 0]"
   ]
  },
  {
   "cell_type": "code",
   "execution_count": 19,
   "metadata": {
    "_kg_hide-input": true,
    "execution": {
     "iopub.execute_input": "2023-02-10T09:48:55.740543Z",
     "iopub.status.busy": "2023-02-10T09:48:55.740224Z",
     "iopub.status.idle": "2023-02-10T09:48:55.754258Z",
     "shell.execute_reply": "2023-02-10T09:48:55.753136Z",
     "shell.execute_reply.started": "2023-02-10T09:48:55.740510Z"
    },
    "id": "Zstjyf5as1Rs",
    "nbgrader": {
     "grade": true,
     "grade_id": "cell-099b34e8d14f75d4",
     "locked": false,
     "points": 0,
     "schema_version": 3,
     "solution": true,
     "task": false
    }
   },
   "outputs": [
    {
     "name": "stdout",
     "output_type": "stream",
     "text": [
      "(664, 10)\n",
      "(166,)\n"
     ]
    }
   ],
   "source": [
    "from sklearn.model_selection import train_test_split\n",
    "X_train, X_test, y_train, y_test = train_test_split(X, y,test_size=0.2)\n",
    "print(X_train.shape)\n",
    "print(y_test.shape)"
   ]
  },
  {
   "cell_type": "markdown",
   "metadata": {},
   "source": [
    "# Train the model\n",
    "##### Import the MLP classifier model from sklearn"
   ]
  },
  {
   "cell_type": "code",
   "execution_count": 23,
   "metadata": {},
   "outputs": [],
   "source": [
    "from sklearn.neural_network import MLPClassifier"
   ]
  },
  {
   "cell_type": "code",
   "execution_count": 24,
   "metadata": {},
   "outputs": [
    {
     "data": {
      "text/plain": [
       "MLPClassifier(max_iter=500)"
      ]
     },
     "execution_count": 24,
     "metadata": {},
     "output_type": "execute_result"
    }
   ],
   "source": [
    "mlp = MLPClassifier(activation='relu', alpha=0.0001, batch_size='auto', beta_1=0.9,\n",
    "              beta_2=0.999, early_stopping=False, epsilon=1e-08,\n",
    "              hidden_layer_sizes=(100,), learning_rate='constant',\n",
    "              learning_rate_init=0.001, max_fun=15000, max_iter=500,\n",
    "              momentum=0.9, n_iter_no_change=10, nesterovs_momentum=True,\n",
    "              power_t=0.5, random_state=None, shuffle=True, solver='adam',\n",
    "              tol=0.0001, validation_fraction=0.1, verbose=False,\n",
    "              warm_start=False)\n",
    "mlp"
   ]
  },
  {
   "cell_type": "raw",
   "metadata": {},
   "source": [
    "About parameters\n",
    "hidden_layer_sizes : tuple, length = n_layers - 2, default (100,)\n",
    "The ith element represents the number of neurons in the ith hidden layer.\n",
    "\n",
    "activation : {‘identity’, ‘logistic’, ‘tanh’, ‘relu’}, default ‘relu’\n",
    "Activation function for the hidden layer.\n",
    "\n",
    "‘identity’, no-op activation, useful to implement linear bottleneck, returns f(x) = x ‘logistic’, the logistic sigmoid function, returns f(x) = 1 / (1 + exp(-x)). ‘tanh’, the hyperbolic tan function, returns f(x) = tanh(x). ‘relu’, the rectified linear unit function, returns f(x) = max(0, x)\n",
    "\n",
    "learning_rate : {‘constant’, ‘invscaling’, ‘adaptive’}, default ‘constant’\n",
    "\n",
    "learning_rate_init : double, optional, default 0.001\n",
    "\n",
    "max_iter : int, optional, default 200\n",
    "\n",
    "Maximum number of iterations. The solver iterates until convergence (determined by ‘tol’) or this number of iterations. For stochastic solvers (‘sgd’, ‘adam’), note that this determines the number of epochs (how many times each data point will be used), not the number of gradient steps.\n",
    "\n",
    "shuffle : bool, optional, default True\n",
    "Whether to shuffle samples in each iteration. Only used when solver=’sgd’ or ‘adam’.\n",
    "\n",
    "momentum : float, default 0.9\n",
    "Momentum for gradient descent update. Should be between 0 and 1. Only used when solver=’sgd’.\n",
    "\n",
    "early_stopping : bool, default False\n",
    "Whether to use early stopping to terminate training when validation score is not improving. If set to true, it will automatically keep 10% of training data as validation and terminate training when validation score is not improving by at least tol for two consecutive epochs. Only effective when solver=’sgd’ or ‘adam’"
   ]
  },
  {
   "cell_type": "code",
   "execution_count": 25,
   "metadata": {
    "scrolled": true
   },
   "outputs": [
    {
     "data": {
      "text/plain": [
       "MLPClassifier(max_iter=500)"
      ]
     },
     "execution_count": 25,
     "metadata": {},
     "output_type": "execute_result"
    }
   ],
   "source": [
    "mlp.fit(X_train,y_train)"
   ]
  },
  {
   "cell_type": "code",
   "execution_count": 26,
   "metadata": {},
   "outputs": [
    {
     "data": {
      "text/plain": [
       "array([1, 0, 1, 1, 1, 0, 1, 1, 1, 1, 0, 1, 0, 0, 1, 1, 1, 0, 1, 1, 0, 0,\n",
       "       0, 1, 0, 0, 0, 1, 0, 1, 0, 1, 1, 1, 1, 0, 0, 0, 0, 1, 1, 1, 1, 1,\n",
       "       1, 0, 0, 0, 1, 1, 1, 0, 0, 0, 0, 1, 0, 1, 0, 1, 0, 0, 1, 0, 1, 1,\n",
       "       0, 1, 0, 0, 1, 0, 0, 0, 1, 1, 0, 1, 0, 0, 0, 1, 1, 1, 1, 0, 0, 0,\n",
       "       0, 1, 0, 0, 1, 1, 1, 0, 1, 0, 0, 0, 1, 1, 0, 0, 1, 0, 0, 1, 0, 0,\n",
       "       1, 1, 0, 1, 0, 1, 1, 0, 1, 1, 1, 1, 0, 0, 0, 0, 0, 0, 0, 1, 1, 1,\n",
       "       0, 1, 0, 0, 1, 0, 1, 1, 1, 0, 0, 1, 1, 0, 1, 1, 1, 0, 0, 1, 1, 1,\n",
       "       0, 0, 1, 0, 0, 0, 1, 0, 1, 0, 1, 1], dtype=int64)"
      ]
     },
     "execution_count": 26,
     "metadata": {},
     "output_type": "execute_result"
    }
   ],
   "source": [
    "pred = mlp.predict(X_test)\n",
    "pred"
   ]
  },
  {
   "cell_type": "code",
   "execution_count": 27,
   "metadata": {},
   "outputs": [
    {
     "data": {
      "text/plain": [
       "array([[72, 14],\n",
       "       [10, 70]], dtype=int64)"
      ]
     },
     "execution_count": 27,
     "metadata": {},
     "output_type": "execute_result"
    }
   ],
   "source": [
    "from sklearn.metrics import classification_report,confusion_matrix\n",
    "\n",
    "confusion_matrix(y_test,pred)"
   ]
  },
  {
   "cell_type": "code",
   "execution_count": 28,
   "metadata": {},
   "outputs": [
    {
     "name": "stdout",
     "output_type": "stream",
     "text": [
      "              precision    recall  f1-score   support\n",
      "\n",
      "           0       0.88      0.84      0.86        86\n",
      "           1       0.83      0.88      0.85        80\n",
      "\n",
      "    accuracy                           0.86       166\n",
      "   macro avg       0.86      0.86      0.86       166\n",
      "weighted avg       0.86      0.86      0.86       166\n",
      "\n"
     ]
    }
   ],
   "source": [
    "print(classification_report(y_test,pred))"
   ]
  },
  {
   "cell_type": "code",
   "execution_count": 39,
   "metadata": {},
   "outputs": [],
   "source": [
    "\n",
    "from sklearn.linear_model import LogisticRegression\n",
    "from sklearn.metrics import roc_auc_score"
   ]
  },
  {
   "cell_type": "code",
   "execution_count": 40,
   "metadata": {},
   "outputs": [],
   "source": [
    "import matplotlib.pyplot as plt\n",
    "\n",
    "def plot_roc_curve(y_test, pred):\n",
    "    \"\"\"\n",
    "    plots the roc curve based of the probabilities\n",
    "    \"\"\"\n",
    "\n",
    "    fpr, tpr, thresholds = roc_curve(y_test, pred)\n",
    "    plt.plot(fpr, tpr)\n",
    "    plt.xlabel('False Positive Rate')\n",
    "    plt.ylabel('True Positive Rate')"
   ]
  },
  {
   "cell_type": "code",
   "execution_count": 41,
   "metadata": {},
   "outputs": [],
   "source": [
    "import numpy as np\n",
    "from sklearn.metrics import accuracy_score, confusion_matrix, roc_auc_score, roc_curve"
   ]
  },
  {
   "cell_type": "code",
   "execution_count": 42,
   "metadata": {},
   "outputs": [
    {
     "name": "stdout",
     "output_type": "stream",
     "text": [
      "model 1 AUC score: 0.8561046511627907\n"
     ]
    },
    {
     "data": {
      "image/png": "[encoded data removed]",
      "text/plain": [
       "<Figure size 432x288 with 1 Axes>"
      ]
     },
     "metadata": {
      "needs_background": "light"
     },
     "output_type": "display_data"
    }
   ],
   "source": [
    "plot_roc_curve(y_test, pred)\n",
    "print(f'model 1 AUC score: {roc_auc_score(y_test, pred)}')"
   ]
  },
  {
   "cell_type": "code",
   "execution_count": null,
   "metadata": {},
   "outputs": [],
   "source": []
  }
 ],
 "metadata": {
  "kernelspec": {
   "display_name": "Python 3 (ipykernel)",
   "language": "python",
   "name": "python3"
  },
  "language_info": {
   "codemirror_mode": {
    "name": "ipython",
    "version": 3
   },
   "file_extension": ".py",
   "mimetype": "text/x-python",
   "name": "python",
   "nbconvert_exporter": "python",
   "pygments_lexer": "ipython3",
   "version": "3.9.12"
  }
 },
 "nbformat": 4,
 "nbformat_minor": 4
}
