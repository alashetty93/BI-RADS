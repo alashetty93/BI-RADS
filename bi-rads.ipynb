{
 "cells": [
  {
   "cell_type": "markdown",
   "metadata": {
    "id": "GUE6RcG5EPHI"
   },
   "source": [
    "# I. Breast Cancer Screening ML Model - Step by Step\n",
    "### Exploration of the use of Machine Learning to improve mammographic screening.\n",
    "\n",
    "For this analysis we use the Mammographic Mass Data Set found on the Kaggle Data Repository at the following location:\n",
    "\n",
    "[Mammographic Mass Data Set](https://www.kaggle.com/overratedgman/mammographic-mass-data-set)\n",
    "\n",
    "This dataset is the result of the work performed to investigate how machine learning can be used for breast cancer\n",
    "screening by Elter, Schulz-Wendtland, and Wittenberg (2007).\n",
    "\n",
    "Mammography is widely accepted as the most effective screening tool to diagnose breast cancer at the moment. However,\n",
    " 5% to 10% of mammograms are referred for further investigation by way of biopsy due to inconclusive or abnormal\n",
    " results. It is this 5 - 10% of cases that ML is seeking to address. By using the Breast Imaging-Reporting and Data\n",
    " System (BI-RADS) and other characteristics of mammographs, the study aimed to improve mammographic screening with\n",
    " machine learning techniques in order to reduce the 5 - 10% screening referrals (Elter, Schulz-Wendtland & Wittenberg,\n",
    " 2007).\n",
    "\n",
    "The Data Dictionary for this dataset is as follows:\n",
    "\n",
    "| Variable | Definition | Type |\n",
    "|----------|------------|-----|\n",
    "| score | BI-RADS assessment: 0–5\t| Ordinal |\n",
    "| age | Patient’s age in years  | Continuous |\n",
    "| shape | Mass shape: round=1, oval=2, lobular=3, and irregular=4 | Categorical |\n",
    "| margin | Mass margin: circumscribed=1, microlobulated=2, obscured=3, ill-defined=4, and spiculated=5 | Categorical |\n",
    "| density | Mass density: high=1, iso=2, low=3, and fat-containing=4 | Ordinal |\n",
    "| malignant | benign=FALSE and malignant=TRUE | Boolean |\n",
    "\n",
    "In this notebook we will do some high level analyses, implement ML pipelines for simple ML model comparison and\n",
    "investigate the use of Response Curve otherwise known as Partial Dependency Plots for investigation of the\n",
    "relationship between various features and the responses. The PDPs also indicate how well the model fits the data from\n",
    " the perspective of different features, and is hence useful from two different perspectives."
   ]
  },
  {
   "cell_type": "code",
   "execution_count": 5,
   "metadata": {
    "_kg_hide-input": true,
    "execution": {
     "iopub.execute_input": "2023-02-10T09:48:53.065408Z",
     "iopub.status.busy": "2023-02-10T09:48:53.065038Z",
     "iopub.status.idle": "2023-02-10T09:48:54.333240Z",
     "shell.execute_reply": "2023-02-10T09:48:54.332131Z",
     "shell.execute_reply.started": "2023-02-10T09:48:53.065378Z"
    },
    "id": "d6yPDwE1O87Q"
   },
   "outputs": [],
   "source": [
    "import pandas as pd\n",
    "import seaborn as sns\n",
    "from sklearn.ensemble import RandomForestClassifier\n",
    "from sklearn.ensemble import VotingClassifier\n",
    "from sklearn.linear_model import LogisticRegression\n",
    "from sklearn.svm import SVC\n",
    "from sklearn.preprocessing import StandardScaler\n",
    "from sklearn.neural_network import MLPClassifier\n",
    "from sklearn.model_selection import train_test_split, cross_val_score\n",
    "from sklearn.metrics import accuracy_score\n",
    "import matplotlib.pyplot as plt\n",
    "import numpy as np"
   ]
  },
  {
   "cell_type": "markdown",
   "metadata": {},
   "source": [
    "<div class=\"alert alert-block alert-info\">\n",
    "<b>Load data</b>\n",
    "</div>"
   ]
  },
  {
   "cell_type": "code",
   "execution_count": 6,
   "metadata": {
    "_kg_hide-input": true,
    "execution": {
     "iopub.execute_input": "2023-02-10T09:48:54.335403Z",
     "iopub.status.busy": "2023-02-10T09:48:54.335014Z",
     "iopub.status.idle": "2023-02-10T09:48:54.362563Z",
     "shell.execute_reply": "2023-02-10T09:48:54.361493Z",
     "shell.execute_reply.started": "2023-02-10T09:48:54.335367Z"
    },
    "id": "XJjNMWNTDndh"
   },
   "outputs": [],
   "source": [
    "df = pd.read_csv('../input/mammographic-mass-data-set/Cleaned_data.csv', delimiter = \",\")\n"
   ]
  },
  {
   "cell_type": "markdown",
   "metadata": {},
   "source": [
    "Let us have a look at the original data:"
   ]
  },
  {
   "cell_type": "code",
   "execution_count": 7,
   "metadata": {
    "_kg_hide-input": true,
    "execution": {
     "iopub.execute_input": "2023-02-10T09:48:54.364957Z",
     "iopub.status.busy": "2023-02-10T09:48:54.364596Z",
     "iopub.status.idle": "2023-02-10T09:48:54.374200Z",
     "shell.execute_reply": "2023-02-10T09:48:54.373017Z",
     "shell.execute_reply.started": "2023-02-10T09:48:54.364916Z"
    },
    "id": "UqPH3gyas1Ra"
   },
   "outputs": [
    {
     "data": {
      "text/plain": [
       "(830, 6)"
      ]
     },
     "execution_count": 7,
     "metadata": {},
     "output_type": "execute_result"
    }
   ],
   "source": [
    "df.shape\n"
   ]
  },
  {
   "cell_type": "code",
   "execution_count": 8,
   "metadata": {
    "_kg_hide-input": true,
    "execution": {
     "iopub.execute_input": "2023-02-10T09:48:54.377050Z",
     "iopub.status.busy": "2023-02-10T09:48:54.376349Z",
     "iopub.status.idle": "2023-02-10T09:48:54.404604Z",
     "shell.execute_reply": "2023-02-10T09:48:54.403626Z",
     "shell.execute_reply.started": "2023-02-10T09:48:54.376973Z"
    },
    "id": "mCI42UpLs1Re"
   },
   "outputs": [
    {
     "data": {
      "text/html": [
       "<div>\n",
       "<style scoped>\n",
       "    .dataframe tbody tr th:only-of-type {\n",
       "        vertical-align: middle;\n",
       "    }\n",
       "\n",
       "    .dataframe tbody tr th {\n",
       "        vertical-align: top;\n",
       "    }\n",
       "\n",
       "    .dataframe thead th {\n",
       "        text-align: right;\n",
       "    }\n",
       "</style>\n",
       "<table border=\"1\" class=\"dataframe\">\n",
       "  <thead>\n",
       "    <tr style=\"text-align: right;\">\n",
       "      <th></th>\n",
       "      <th>BI-RADS</th>\n",
       "      <th>Age</th>\n",
       "      <th>Shape</th>\n",
       "      <th>Margin</th>\n",
       "      <th>Density</th>\n",
       "      <th>Severity</th>\n",
       "    </tr>\n",
       "  </thead>\n",
       "  <tbody>\n",
       "    <tr>\n",
       "      <th>0</th>\n",
       "      <td>5</td>\n",
       "      <td>67</td>\n",
       "      <td>3</td>\n",
       "      <td>5</td>\n",
       "      <td>3</td>\n",
       "      <td>1</td>\n",
       "    </tr>\n",
       "    <tr>\n",
       "      <th>1</th>\n",
       "      <td>5</td>\n",
       "      <td>58</td>\n",
       "      <td>4</td>\n",
       "      <td>5</td>\n",
       "      <td>3</td>\n",
       "      <td>1</td>\n",
       "    </tr>\n",
       "    <tr>\n",
       "      <th>2</th>\n",
       "      <td>4</td>\n",
       "      <td>28</td>\n",
       "      <td>1</td>\n",
       "      <td>1</td>\n",
       "      <td>3</td>\n",
       "      <td>0</td>\n",
       "    </tr>\n",
       "    <tr>\n",
       "      <th>3</th>\n",
       "      <td>5</td>\n",
       "      <td>57</td>\n",
       "      <td>1</td>\n",
       "      <td>5</td>\n",
       "      <td>3</td>\n",
       "      <td>1</td>\n",
       "    </tr>\n",
       "    <tr>\n",
       "      <th>4</th>\n",
       "      <td>5</td>\n",
       "      <td>76</td>\n",
       "      <td>1</td>\n",
       "      <td>4</td>\n",
       "      <td>3</td>\n",
       "      <td>1</td>\n",
       "    </tr>\n",
       "  </tbody>\n",
       "</table>\n",
       "</div>"
      ],
      "text/plain": [
       "   BI-RADS  Age  Shape  Margin  Density  Severity\n",
       "0        5   67      3       5        3         1\n",
       "1        5   58      4       5        3         1\n",
       "2        4   28      1       1        3         0\n",
       "3        5   57      1       5        3         1\n",
       "4        5   76      1       4        3         1"
      ]
     },
     "execution_count": 8,
     "metadata": {},
     "output_type": "execute_result"
    }
   ],
   "source": [
    "df.head()\n"
   ]
  },
  {
   "cell_type": "code",
   "execution_count": 9,
   "metadata": {
    "_kg_hide-input": true,
    "execution": {
     "iopub.execute_input": "2023-02-10T09:48:54.406340Z",
     "iopub.status.busy": "2023-02-10T09:48:54.405998Z",
     "iopub.status.idle": "2023-02-10T09:48:54.410802Z",
     "shell.execute_reply": "2023-02-10T09:48:54.409470Z",
     "shell.execute_reply.started": "2023-02-10T09:48:54.406305Z"
    },
    "jupyter": {
     "outputs_hidden": false
    },
    "pycharm": {
     "name": "#%%\n"
    }
   },
   "outputs": [],
   "source": [
    "df_mam = df.copy()"
   ]
  },
  {
   "cell_type": "markdown",
   "metadata": {},
   "source": [
    "<div class=\"alert alert-block alert-info\">\n",
    "<b>Missing values</b>\n",
    "</div>"
   ]
  },
  {
   "cell_type": "markdown",
   "metadata": {},
   "source": [
    "We quantify the exact number of missing values in the data set:"
   ]
  },
  {
   "cell_type": "code",
   "execution_count": 10,
   "metadata": {
    "_kg_hide-input": true,
    "execution": {
     "iopub.execute_input": "2023-02-10T09:48:54.412801Z",
     "iopub.status.busy": "2023-02-10T09:48:54.412469Z",
     "iopub.status.idle": "2023-02-10T09:48:54.444432Z",
     "shell.execute_reply": "2023-02-10T09:48:54.443302Z",
     "shell.execute_reply.started": "2023-02-10T09:48:54.412767Z"
    },
    "jupyter": {
     "outputs_hidden": false
    },
    "pycharm": {
     "name": "#%%\n"
    }
   },
   "outputs": [],
   "source": [
    "# Check for null values\n",
    "missing_values_train = df_mam.isnull().sum()\n",
    "missing_values_train = missing_values_train.to_frame(name='num_missing')\n",
    "missing_values_train['perc_missing'] = (missing_values_train['num_missing']/df_mam.shape[0])*100\n",
    "for index, row in missing_values_train.iterrows():\n",
    "    if (row['num_missing'] > 0):\n",
    "        print (\"For \\\"%s\\\" the number of missing values are: %d (%.0f%%)\" %  (index,\n",
    "                                                                     row['num_missing'],\n",
    "                                                                    row['perc_missing']))"
   ]
  },
  {
   "cell_type": "markdown",
   "metadata": {},
   "source": [
    "There are no missing values! We got lucky with this dataset.\n",
    "\n",
    "We start by renaming columns to align with our data dictionary and then we One Hot Encode categorical variables."
   ]
  },
  {
   "cell_type": "code",
   "execution_count": 11,
   "metadata": {
    "_kg_hide-input": true,
    "execution": {
     "iopub.execute_input": "2023-02-10T09:48:54.446345Z",
     "iopub.status.busy": "2023-02-10T09:48:54.445788Z",
     "iopub.status.idle": "2023-02-10T09:48:54.463809Z",
     "shell.execute_reply": "2023-02-10T09:48:54.462698Z",
     "shell.execute_reply.started": "2023-02-10T09:48:54.446310Z"
    },
    "jupyter": {
     "outputs_hidden": false
    },
    "pycharm": {
     "name": "#%%\n"
    }
   },
   "outputs": [],
   "source": [
    "# Rename columns to align with our data dictionary.\n",
    "df_mam = df_mam.rename(columns = {'BI-RADS': 'score', 'Age': 'age', 'Shape': 'shape', 'Margin': 'margin', 'Density':\n",
    "    'density', 'Severity': 'malignanttrue'})\n",
    "df_mam_orig = df_mam.copy()\n",
    "\n",
    "categorical_cols = ['shape', 'margin']\n",
    "df_mam = pd.get_dummies(df_mam, columns = categorical_cols, drop_first=True)\n",
    "cols = list(df_mam.columns.values)\n",
    "quantitative_cols = ['score', 'shape', 'margin', 'density']\n",
    "\n",
    "# Re-order columns\n",
    "col_names = ['malignanttrue', 'score', 'age', 'shape_2', 'shape_3', 'shape_4', 'margin_2', 'margin_3', 'margin_4',\n",
    "             'margin_5', 'density']\n",
    "df_mam = df_mam[col_names]"
   ]
  },
  {
   "cell_type": "markdown",
   "metadata": {},
   "source": [
    "The dataset looks as follows now:"
   ]
  },
  {
   "cell_type": "code",
   "execution_count": 12,
   "metadata": {
    "_kg_hide-input": true,
    "execution": {
     "iopub.execute_input": "2023-02-10T09:48:54.467114Z",
     "iopub.status.busy": "2023-02-10T09:48:54.466490Z",
     "iopub.status.idle": "2023-02-10T09:48:54.483681Z",
     "shell.execute_reply": "2023-02-10T09:48:54.482587Z",
     "shell.execute_reply.started": "2023-02-10T09:48:54.467072Z"
    },
    "jupyter": {
     "outputs_hidden": false
    },
    "pycharm": {
     "name": "#%%\n"
    }
   },
   "outputs": [
    {
     "data": {
      "text/html": [
       "<div>\n",
       "<style scoped>\n",
       "    .dataframe tbody tr th:only-of-type {\n",
       "        vertical-align: middle;\n",
       "    }\n",
       "\n",
       "    .dataframe tbody tr th {\n",
       "        vertical-align: top;\n",
       "    }\n",
       "\n",
       "    .dataframe thead th {\n",
       "        text-align: right;\n",
       "    }\n",
       "</style>\n",
       "<table border=\"1\" class=\"dataframe\">\n",
       "  <thead>\n",
       "    <tr style=\"text-align: right;\">\n",
       "      <th></th>\n",
       "      <th>malignanttrue</th>\n",
       "      <th>score</th>\n",
       "      <th>age</th>\n",
       "      <th>shape_2</th>\n",
       "      <th>shape_3</th>\n",
       "      <th>shape_4</th>\n",
       "      <th>margin_2</th>\n",
       "      <th>margin_3</th>\n",
       "      <th>margin_4</th>\n",
       "      <th>margin_5</th>\n",
       "      <th>density</th>\n",
       "    </tr>\n",
       "  </thead>\n",
       "  <tbody>\n",
       "    <tr>\n",
       "      <th>647</th>\n",
       "      <td>0</td>\n",
       "      <td>4</td>\n",
       "      <td>68</td>\n",
       "      <td>0</td>\n",
       "      <td>0</td>\n",
       "      <td>1</td>\n",
       "      <td>0</td>\n",
       "      <td>0</td>\n",
       "      <td>1</td>\n",
       "      <td>0</td>\n",
       "      <td>3</td>\n",
       "    </tr>\n",
       "    <tr>\n",
       "      <th>31</th>\n",
       "      <td>0</td>\n",
       "      <td>4</td>\n",
       "      <td>74</td>\n",
       "      <td>1</td>\n",
       "      <td>0</td>\n",
       "      <td>0</td>\n",
       "      <td>0</td>\n",
       "      <td>0</td>\n",
       "      <td>0</td>\n",
       "      <td>0</td>\n",
       "      <td>2</td>\n",
       "    </tr>\n",
       "    <tr>\n",
       "      <th>474</th>\n",
       "      <td>1</td>\n",
       "      <td>4</td>\n",
       "      <td>59</td>\n",
       "      <td>0</td>\n",
       "      <td>0</td>\n",
       "      <td>1</td>\n",
       "      <td>0</td>\n",
       "      <td>0</td>\n",
       "      <td>1</td>\n",
       "      <td>0</td>\n",
       "      <td>3</td>\n",
       "    </tr>\n",
       "    <tr>\n",
       "      <th>8</th>\n",
       "      <td>0</td>\n",
       "      <td>4</td>\n",
       "      <td>54</td>\n",
       "      <td>0</td>\n",
       "      <td>0</td>\n",
       "      <td>0</td>\n",
       "      <td>0</td>\n",
       "      <td>0</td>\n",
       "      <td>0</td>\n",
       "      <td>0</td>\n",
       "      <td>3</td>\n",
       "    </tr>\n",
       "    <tr>\n",
       "      <th>382</th>\n",
       "      <td>0</td>\n",
       "      <td>4</td>\n",
       "      <td>37</td>\n",
       "      <td>1</td>\n",
       "      <td>0</td>\n",
       "      <td>0</td>\n",
       "      <td>0</td>\n",
       "      <td>1</td>\n",
       "      <td>0</td>\n",
       "      <td>0</td>\n",
       "      <td>3</td>\n",
       "    </tr>\n",
       "    <tr>\n",
       "      <th>255</th>\n",
       "      <td>1</td>\n",
       "      <td>5</td>\n",
       "      <td>87</td>\n",
       "      <td>0</td>\n",
       "      <td>0</td>\n",
       "      <td>1</td>\n",
       "      <td>0</td>\n",
       "      <td>0</td>\n",
       "      <td>1</td>\n",
       "      <td>0</td>\n",
       "      <td>3</td>\n",
       "    </tr>\n",
       "    <tr>\n",
       "      <th>672</th>\n",
       "      <td>1</td>\n",
       "      <td>0</td>\n",
       "      <td>72</td>\n",
       "      <td>0</td>\n",
       "      <td>0</td>\n",
       "      <td>1</td>\n",
       "      <td>0</td>\n",
       "      <td>1</td>\n",
       "      <td>0</td>\n",
       "      <td>0</td>\n",
       "      <td>3</td>\n",
       "    </tr>\n",
       "    <tr>\n",
       "      <th>679</th>\n",
       "      <td>1</td>\n",
       "      <td>5</td>\n",
       "      <td>62</td>\n",
       "      <td>0</td>\n",
       "      <td>0</td>\n",
       "      <td>1</td>\n",
       "      <td>0</td>\n",
       "      <td>0</td>\n",
       "      <td>1</td>\n",
       "      <td>0</td>\n",
       "      <td>2</td>\n",
       "    </tr>\n",
       "    <tr>\n",
       "      <th>196</th>\n",
       "      <td>1</td>\n",
       "      <td>5</td>\n",
       "      <td>66</td>\n",
       "      <td>0</td>\n",
       "      <td>0</td>\n",
       "      <td>1</td>\n",
       "      <td>0</td>\n",
       "      <td>0</td>\n",
       "      <td>1</td>\n",
       "      <td>0</td>\n",
       "      <td>3</td>\n",
       "    </tr>\n",
       "    <tr>\n",
       "      <th>652</th>\n",
       "      <td>0</td>\n",
       "      <td>4</td>\n",
       "      <td>58</td>\n",
       "      <td>0</td>\n",
       "      <td>0</td>\n",
       "      <td>0</td>\n",
       "      <td>0</td>\n",
       "      <td>0</td>\n",
       "      <td>0</td>\n",
       "      <td>0</td>\n",
       "      <td>3</td>\n",
       "    </tr>\n",
       "  </tbody>\n",
       "</table>\n",
       "</div>"
      ],
      "text/plain": [
       "     malignanttrue  score  age  shape_2  shape_3  shape_4  margin_2  margin_3  \\\n",
       "647              0      4   68        0        0        1         0         0   \n",
       "31               0      4   74        1        0        0         0         0   \n",
       "474              1      4   59        0        0        1         0         0   \n",
       "8                0      4   54        0        0        0         0         0   \n",
       "382              0      4   37        1        0        0         0         1   \n",
       "255              1      5   87        0        0        1         0         0   \n",
       "672              1      0   72        0        0        1         0         1   \n",
       "679              1      5   62        0        0        1         0         0   \n",
       "196              1      5   66        0        0        1         0         0   \n",
       "652              0      4   58        0        0        0         0         0   \n",
       "\n",
       "     margin_4  margin_5  density  \n",
       "647         1         0        3  \n",
       "31          0         0        2  \n",
       "474         1         0        3  \n",
       "8           0         0        3  \n",
       "382         0         0        3  \n",
       "255         1         0        3  \n",
       "672         0         0        3  \n",
       "679         1         0        2  \n",
       "196         1         0        3  \n",
       "652         0         0        3  "
      ]
     },
     "execution_count": 12,
     "metadata": {},
     "output_type": "execute_result"
    }
   ],
   "source": [
    "df_mam.sample(10, random_state=0)"
   ]
  },
  {
   "cell_type": "markdown",
   "metadata": {},
   "source": [
    "<div class=\"alert alert-block alert-info\">\n",
    "<b>Exploration of data</b>\n",
    "</div>"
   ]
  },
  {
   "cell_type": "markdown",
   "metadata": {},
   "source": [
    "Now we analyse the distribution for patient age to get a feel for the data."
   ]
  },
  {
   "cell_type": "code",
   "execution_count": 13,
   "metadata": {
    "_kg_hide-input": true,
    "execution": {
     "iopub.execute_input": "2023-02-10T09:48:54.486993Z",
     "iopub.status.busy": "2023-02-10T09:48:54.486510Z",
     "iopub.status.idle": "2023-02-10T09:48:54.828042Z",
     "shell.execute_reply": "2023-02-10T09:48:54.826975Z",
     "shell.execute_reply.started": "2023-02-10T09:48:54.486941Z"
    },
    "jupyter": {
     "outputs_hidden": false
    },
    "pycharm": {
     "name": "#%%\n"
    }
   },
   "outputs": [
    {
     "data": {
      "image/png": "[encoded data removed]",
      "text/plain": [
       "<Figure size 720x576 with 1 Axes>"
      ]
     },
     "metadata": {
      "needs_background": "light"
     },
     "output_type": "display_data"
    }
   ],
   "source": [
    "# Continuous density plot\n",
    "fig_missing, axes = plt.subplots(1, 1, figsize=(10, 8))\n",
    "\n",
    "# Plot frequency plot/ histogram\n",
    "_ = sns.histplot(x=\"age\", kde=True, data=df_mam, ax=axes, bins=40);\n",
    "_ = axes.set(xlabel=\"Age\", ylabel='Density');\n",
    "axes.xaxis.label.set_size(18)\n",
    "axes.yaxis.label.set_size(18)\n",
    "axes.tick_params('y', labelsize = 14);\n",
    "axes.tick_params('x', labelsize = 14);"
   ]
  },
  {
   "cell_type": "markdown",
   "metadata": {},
   "source": [
    "Data seems fairly reasonable, no outliers. We will continue with analysis for now, and do a more in-depth EDA in a\n",
    "later notebook.\n",
    "\n"
   ]
  },
  {
   "cell_type": "code",
   "execution_count": 14,
   "metadata": {
    "_kg_hide-input": true,
    "execution": {
     "iopub.execute_input": "2023-02-10T09:48:54.829766Z",
     "iopub.status.busy": "2023-02-10T09:48:54.829455Z",
     "iopub.status.idle": "2023-02-10T09:48:54.840123Z",
     "shell.execute_reply": "2023-02-10T09:48:54.838935Z",
     "shell.execute_reply.started": "2023-02-10T09:48:54.829734Z"
    },
    "jupyter": {
     "outputs_hidden": false
    },
    "pycharm": {
     "name": "#%%\n"
    }
   },
   "outputs": [
    {
     "data": {
      "text/plain": [
       "4     468\n",
       "5     316\n",
       "3      24\n",
       "6       9\n",
       "2       7\n",
       "0       5\n",
       "55      1\n",
       "Name: score, dtype: int64"
      ]
     },
     "execution_count": 14,
     "metadata": {},
     "output_type": "execute_result"
    }
   ],
   "source": [
    "df_mam['score'].value_counts()"
   ]
  },
  {
   "cell_type": "markdown",
   "metadata": {
    "pycharm": {
     "name": "#%% md\n"
    }
   },
   "source": [
    "We observe that one value was probably incorrectly captured (as this score does not exist), we map the value of 55 to\n",
    " 5. "
   ]
  },
  {
   "cell_type": "code",
   "execution_count": 15,
   "metadata": {
    "_kg_hide-input": true,
    "execution": {
     "iopub.execute_input": "2023-02-10T09:48:54.842110Z",
     "iopub.status.busy": "2023-02-10T09:48:54.841778Z",
     "iopub.status.idle": "2023-02-10T09:48:54.854190Z",
     "shell.execute_reply": "2023-02-10T09:48:54.853026Z",
     "shell.execute_reply.started": "2023-02-10T09:48:54.842077Z"
    },
    "jupyter": {
     "outputs_hidden": false
    },
    "pycharm": {
     "name": "#%%\n"
    }
   },
   "outputs": [],
   "source": [
    "idx = df_mam[df_mam['score'] == 55].index\n",
    "df_mam.loc[idx, 'score'] = 5"
   ]
  },
  {
   "cell_type": "code",
   "execution_count": 16,
   "metadata": {
    "_kg_hide-input": true,
    "execution": {
     "iopub.execute_input": "2023-02-10T09:48:54.856221Z",
     "iopub.status.busy": "2023-02-10T09:48:54.855744Z",
     "iopub.status.idle": "2023-02-10T09:48:54.868215Z",
     "shell.execute_reply": "2023-02-10T09:48:54.867290Z",
     "shell.execute_reply.started": "2023-02-10T09:48:54.856170Z"
    },
    "jupyter": {
     "outputs_hidden": false
    },
    "pycharm": {
     "name": "#%%\n"
    }
   },
   "outputs": [
    {
     "data": {
      "text/plain": [
       "4    468\n",
       "5    317\n",
       "3     24\n",
       "6      9\n",
       "2      7\n",
       "0      5\n",
       "Name: score, dtype: int64"
      ]
     },
     "execution_count": 16,
     "metadata": {},
     "output_type": "execute_result"
    }
   ],
   "source": [
    "df_mam['score'].value_counts()"
   ]
  },
  {
   "cell_type": "markdown",
   "metadata": {
    "pycharm": {
     "name": "#%% md\n"
    }
   },
   "source": [
    "Data is not sorted and does not have a meaningful index for baseline. We sort data and create new index."
   ]
  },
  {
   "cell_type": "code",
   "execution_count": 17,
   "metadata": {
    "_kg_hide-input": true,
    "execution": {
     "iopub.execute_input": "2023-02-10T09:48:54.870026Z",
     "iopub.status.busy": "2023-02-10T09:48:54.869490Z",
     "iopub.status.idle": "2023-02-10T09:48:54.885371Z",
     "shell.execute_reply": "2023-02-10T09:48:54.884011Z",
     "shell.execute_reply.started": "2023-02-10T09:48:54.869980Z"
    },
    "jupyter": {
     "outputs_hidden": false
    },
    "pycharm": {
     "name": "#%%\n"
    }
   },
   "outputs": [],
   "source": [
    "df_mam = df_mam.sort_values(['age', 'score', 'density', 'malignanttrue'], ascending=[True, True, True, True])\n",
    "df_mam = df_mam.reset_index(drop=True)"
   ]
  },
  {
   "cell_type": "markdown",
   "metadata": {
    "pycharm": {
     "name": "#%% md\n"
    }
   },
   "source": [
    "Next we consider the categorical variables.\n",
    "\n",
    "We first look at the distribution of the response."
   ]
  },
  {
   "cell_type": "code",
   "execution_count": 18,
   "metadata": {
    "_kg_hide-input": true,
    "execution": {
     "iopub.execute_input": "2023-02-10T09:48:54.887235Z",
     "iopub.status.busy": "2023-02-10T09:48:54.886883Z",
     "iopub.status.idle": "2023-02-10T09:48:55.003063Z",
     "shell.execute_reply": "2023-02-10T09:48:55.001993Z",
     "shell.execute_reply.started": "2023-02-10T09:48:54.887202Z"
    },
    "jupyter": {
     "outputs_hidden": false
    },
    "pycharm": {
     "name": "#%%\n"
    }
   },
   "outputs": [
    {
     "data": {
      "image/png": "[encoded data removed]",
      "text/plain": [
       "<Figure size 432x288 with 1 Axes>"
      ]
     },
     "metadata": {
      "needs_background": "light"
     },
     "output_type": "display_data"
    }
   ],
   "source": [
    "_ = plt.figure()\n",
    "\n",
    "# Plot outcome counts.a\n",
    "outcome_counts = df_mam_orig['malignanttrue'].value_counts(normalize = True)\n",
    "legend_labels = ['Benign', 'Malignant']\n",
    "\n",
    "# change the background bar colors to be light grey\n",
    "bars = plt.bar(outcome_counts.index, outcome_counts.values, align='center', linewidth=0,\n",
    "               color='lightslategrey')\n",
    "# make one bar, the survived bar, a contrasting color\n",
    "bars[1].set_color('#1F77B4')\n",
    "\n",
    "# soften all labels by turning grey\n",
    "_ = plt.xticks(outcome_counts.index, legend_labels, fontsize=15, alpha=0.8)\n",
    "_ = plt.title('Diagnostic Outcome', fontsize=15, pad=30, alpha=0.8)\n",
    "\n",
    "# remove all the ticks (both axes), and tick labels on the Y axis\n",
    "plt.tick_params(top=False, bottom=False, left=False, right=False, labelleft=False,\n",
    "                labelbottom=True)\n",
    "\n",
    "# Remove the frame - my method\n",
    "ax = plt.gca()\n",
    "ax.set_frame_on(False)\n",
    "\n",
    "# Remove the frame of the chart - instructor's method\n",
    "#for spine in plt.gca().spines.values():\n",
    "#    spine.set_visible(False)\n",
    "\n",
    "# direct label each bar with Y axis values\n",
    "for bar in bars:\n",
    "    _ = plt.gca().text(bar.get_x() + bar.get_width()/2, bar.get_height() - 0.05,\n",
    "                       str(round((bar.get_height()*100))) + '%', ha='center', color='w',\n",
    "                       fontsize=15)\n",
    "\n",
    "plt.show()"
   ]
  },
  {
   "cell_type": "code",
   "execution_count": 19,
   "metadata": {
    "_kg_hide-input": true,
    "execution": {
     "iopub.execute_input": "2023-02-10T09:48:55.004580Z",
     "iopub.status.busy": "2023-02-10T09:48:55.004287Z",
     "iopub.status.idle": "2023-02-10T09:48:55.015143Z",
     "shell.execute_reply": "2023-02-10T09:48:55.013911Z",
     "shell.execute_reply.started": "2023-02-10T09:48:55.004550Z"
    },
    "jupyter": {
     "outputs_hidden": false
    },
    "pycharm": {
     "name": "#%%\n"
    }
   },
   "outputs": [
    {
     "data": {
      "text/plain": [
       "0    427\n",
       "1    403\n",
       "Name: malignanttrue, dtype: int64"
      ]
     },
     "execution_count": 19,
     "metadata": {},
     "output_type": "execute_result"
    }
   ],
   "source": [
    "df_mam['malignanttrue'].value_counts()"
   ]
  },
  {
   "cell_type": "markdown",
   "metadata": {},
   "source": [
    "We observe that the classes are well balanced. No need for boosting."
   ]
  },
  {
   "cell_type": "code",
   "execution_count": 20,
   "metadata": {
    "_kg_hide-input": true,
    "execution": {
     "iopub.execute_input": "2023-02-10T09:48:55.017075Z",
     "iopub.status.busy": "2023-02-10T09:48:55.016661Z",
     "iopub.status.idle": "2023-02-10T09:48:55.730068Z",
     "shell.execute_reply": "2023-02-10T09:48:55.728770Z",
     "shell.execute_reply.started": "2023-02-10T09:48:55.017039Z"
    },
    "jupyter": {
     "outputs_hidden": false
    },
    "pycharm": {
     "name": "#%%\n"
    }
   },
   "outputs": [
    {
     "data": {
      "image/png": "[encoded data removed]",
      "text/plain": [
       "<Figure size 1080x936 with 4 Axes>"
      ]
     },
     "metadata": {
      "needs_background": "light"
     },
     "output_type": "display_data"
    }
   ],
   "source": [
    "# Bar chart plot of categorical variables.\n",
    "fig, ax = plt.subplots(2, 2, figsize=(15, 13));\n",
    "for variable, subplot in zip(quantitative_cols, ax.flatten()):\n",
    "    subplot.xaxis.label.set_size(20)\n",
    "    subplot.yaxis.label.set_size(20)\n",
    "    subplot.tick_params('y', labelsize = 20);\n",
    "    subplot.tick_params('x', labelsize = 20);\n",
    "    cp = sns.countplot(x=df_mam_orig[variable], ax=subplot, palette='deep', order =\n",
    "    df_mam_orig[variable].value_counts().index);\n",
    "plt.tight_layout()"
   ]
  },
  {
   "cell_type": "markdown",
   "metadata": {
    "pycharm": {
     "name": "#%% md\n"
    }
   },
   "source": [
    "There is good variation in all the categorical variables. We will perform a more in depth analysis later."
   ]
  },
  {
   "cell_type": "markdown",
   "metadata": {},
   "source": [
    "<div class=\"alert alert-block alert-info\">\n",
    "<b>Build Models</b>\n",
    "</div>"
   ]
  },
  {
   "cell_type": "markdown",
   "metadata": {
    "pycharm": {
     "name": "#%% md\n"
    }
   },
   "source": [
    "We now build a baseline model followed by setting up a Voting Classifier."
   ]
  },
  {
   "cell_type": "code",
   "execution_count": 21,
   "metadata": {
    "_kg_hide-input": true,
    "execution": {
     "iopub.execute_input": "2023-02-10T09:48:55.732190Z",
     "iopub.status.busy": "2023-02-10T09:48:55.731726Z",
     "iopub.status.idle": "2023-02-10T09:48:55.738785Z",
     "shell.execute_reply": "2023-02-10T09:48:55.737662Z",
     "shell.execute_reply.started": "2023-02-10T09:48:55.732144Z"
    },
    "jupyter": {
     "outputs_hidden": false
    },
    "pycharm": {
     "name": "#%%\n"
    }
   },
   "outputs": [],
   "source": [
    "X = df_mam.iloc[:, np.r_[1:11]]\n",
    "y = df_mam.iloc[:, 0]"
   ]
  },
  {
   "cell_type": "code",
   "execution_count": 22,
   "metadata": {
    "_kg_hide-input": true,
    "execution": {
     "iopub.execute_input": "2023-02-10T09:48:55.740543Z",
     "iopub.status.busy": "2023-02-10T09:48:55.740224Z",
     "iopub.status.idle": "2023-02-10T09:48:55.754258Z",
     "shell.execute_reply": "2023-02-10T09:48:55.753136Z",
     "shell.execute_reply.started": "2023-02-10T09:48:55.740510Z"
    },
    "id": "Zstjyf5as1Rs",
    "nbgrader": {
     "grade": true,
     "grade_id": "cell-099b34e8d14f75d4",
     "locked": false,
     "points": 0,
     "schema_version": 3,
     "solution": true,
     "task": false
    }
   },
   "outputs": [],
   "source": [
    "y = np.ravel(y)\n",
    "\n",
    "# Split the data into the training set and testing set\n",
    "X_train, X_test, y_train, y_test = train_test_split(X, y, random_state=0)"
   ]
  },
  {
   "cell_type": "markdown",
   "metadata": {
    "id": "Df-g6Eo7s1Rz"
   },
   "source": [
    "We scale the data next."
   ]
  },
  {
   "cell_type": "code",
   "execution_count": 23,
   "metadata": {
    "_kg_hide-input": true,
    "execution": {
     "iopub.execute_input": "2023-02-10T09:48:55.756159Z",
     "iopub.status.busy": "2023-02-10T09:48:55.755773Z",
     "iopub.status.idle": "2023-02-10T09:48:55.774222Z",
     "shell.execute_reply": "2023-02-10T09:48:55.773055Z",
     "shell.execute_reply.started": "2023-02-10T09:48:55.756115Z"
    },
    "id": "XI6VPQIhkz-b",
    "nbgrader": {
     "grade": true,
     "grade_id": "cell-f07b652bd5c7868d",
     "locked": false,
     "points": 0,
     "schema_version": 3,
     "solution": true,
     "task": false
    }
   },
   "outputs": [],
   "source": [
    "scaler = StandardScaler()\n",
    "scaler.fit(X_train)\n",
    "X_train = scaler.transform(X_train)  \n",
    "X_test = scaler.transform(X_test)"
   ]
  },
  {
   "cell_type": "code",
   "execution_count": 24,
   "metadata": {
    "_kg_hide-input": true,
    "execution": {
     "iopub.execute_input": "2023-02-10T09:48:55.776185Z",
     "iopub.status.busy": "2023-02-10T09:48:55.775779Z",
     "iopub.status.idle": "2023-02-10T09:48:55.788328Z",
     "shell.execute_reply": "2023-02-10T09:48:55.787319Z",
     "shell.execute_reply.started": "2023-02-10T09:48:55.776147Z"
    },
    "jupyter": {
     "outputs_hidden": false
    },
    "pycharm": {
     "name": "#%%\n"
    }
   },
   "outputs": [],
   "source": [
    "col_names = list(X.columns.values)\n",
    "X_train = pd.DataFrame(X_train, columns=col_names)"
   ]
  },
  {
   "cell_type": "markdown",
   "metadata": {
    "pycharm": {
     "name": "#%% md\n"
    }
   },
   "source": [
    "The scaled dataset looks as follows:"
   ]
  },
  {
   "cell_type": "code",
   "execution_count": 25,
   "metadata": {
    "_kg_hide-input": true,
    "execution": {
     "iopub.execute_input": "2023-02-10T09:48:55.790212Z",
     "iopub.status.busy": "2023-02-10T09:48:55.789830Z",
     "iopub.status.idle": "2023-02-10T09:48:55.814580Z",
     "shell.execute_reply": "2023-02-10T09:48:55.813735Z",
     "shell.execute_reply.started": "2023-02-10T09:48:55.790121Z"
    },
    "jupyter": {
     "outputs_hidden": false
    },
    "pycharm": {
     "name": "#%%\n"
    }
   },
   "outputs": [
    {
     "data": {
      "text/html": [
       "<div>\n",
       "<style scoped>\n",
       "    .dataframe tbody tr th:only-of-type {\n",
       "        vertical-align: middle;\n",
       "    }\n",
       "\n",
       "    .dataframe tbody tr th {\n",
       "        vertical-align: top;\n",
       "    }\n",
       "\n",
       "    .dataframe thead th {\n",
       "        text-align: right;\n",
       "    }\n",
       "</style>\n",
       "<table border=\"1\" class=\"dataframe\">\n",
       "  <thead>\n",
       "    <tr style=\"text-align: right;\">\n",
       "      <th></th>\n",
       "      <th>score</th>\n",
       "      <th>age</th>\n",
       "      <th>shape_2</th>\n",
       "      <th>shape_3</th>\n",
       "      <th>shape_4</th>\n",
       "      <th>margin_2</th>\n",
       "      <th>margin_3</th>\n",
       "      <th>margin_4</th>\n",
       "      <th>margin_5</th>\n",
       "      <th>density</th>\n",
       "    </tr>\n",
       "  </thead>\n",
       "  <tbody>\n",
       "    <tr>\n",
       "      <th>0</th>\n",
       "      <td>0.991644</td>\n",
       "      <td>0.085514</td>\n",
       "      <td>-0.506523</td>\n",
       "      <td>-0.326744</td>\n",
       "      <td>1.098032</td>\n",
       "      <td>-0.172631</td>\n",
       "      <td>-0.364649</td>\n",
       "      <td>1.490905</td>\n",
       "      <td>-0.432461</td>\n",
       "      <td>0.256124</td>\n",
       "    </tr>\n",
       "    <tr>\n",
       "      <th>1</th>\n",
       "      <td>0.991644</td>\n",
       "      <td>-0.680308</td>\n",
       "      <td>-0.506523</td>\n",
       "      <td>-0.326744</td>\n",
       "      <td>1.098032</td>\n",
       "      <td>-0.172631</td>\n",
       "      <td>2.742362</td>\n",
       "      <td>-0.670734</td>\n",
       "      <td>-0.432461</td>\n",
       "      <td>0.256124</td>\n",
       "    </tr>\n",
       "    <tr>\n",
       "      <th>2</th>\n",
       "      <td>-0.449484</td>\n",
       "      <td>-1.237269</td>\n",
       "      <td>1.974244</td>\n",
       "      <td>-0.326744</td>\n",
       "      <td>-0.910720</td>\n",
       "      <td>-0.172631</td>\n",
       "      <td>-0.364649</td>\n",
       "      <td>-0.670734</td>\n",
       "      <td>-0.432461</td>\n",
       "      <td>-2.640410</td>\n",
       "    </tr>\n",
       "    <tr>\n",
       "      <th>3</th>\n",
       "      <td>0.991644</td>\n",
       "      <td>0.572855</td>\n",
       "      <td>-0.506523</td>\n",
       "      <td>-0.326744</td>\n",
       "      <td>1.098032</td>\n",
       "      <td>-0.172631</td>\n",
       "      <td>-0.364649</td>\n",
       "      <td>1.490905</td>\n",
       "      <td>-0.432461</td>\n",
       "      <td>0.256124</td>\n",
       "    </tr>\n",
       "    <tr>\n",
       "      <th>4</th>\n",
       "      <td>-0.449484</td>\n",
       "      <td>-0.332207</td>\n",
       "      <td>-0.506523</td>\n",
       "      <td>-0.326744</td>\n",
       "      <td>1.098032</td>\n",
       "      <td>-0.172631</td>\n",
       "      <td>2.742362</td>\n",
       "      <td>-0.670734</td>\n",
       "      <td>-0.432461</td>\n",
       "      <td>0.256124</td>\n",
       "    </tr>\n",
       "  </tbody>\n",
       "</table>\n",
       "</div>"
      ],
      "text/plain": [
       "      score       age   shape_2   shape_3   shape_4  margin_2  margin_3  \\\n",
       "0  0.991644  0.085514 -0.506523 -0.326744  1.098032 -0.172631 -0.364649   \n",
       "1  0.991644 -0.680308 -0.506523 -0.326744  1.098032 -0.172631  2.742362   \n",
       "2 -0.449484 -1.237269  1.974244 -0.326744 -0.910720 -0.172631 -0.364649   \n",
       "3  0.991644  0.572855 -0.506523 -0.326744  1.098032 -0.172631 -0.364649   \n",
       "4 -0.449484 -0.332207 -0.506523 -0.326744  1.098032 -0.172631  2.742362   \n",
       "\n",
       "   margin_4  margin_5   density  \n",
       "0  1.490905 -0.432461  0.256124  \n",
       "1 -0.670734 -0.432461  0.256124  \n",
       "2 -0.670734 -0.432461 -2.640410  \n",
       "3  1.490905 -0.432461  0.256124  \n",
       "4 -0.670734 -0.432461  0.256124  "
      ]
     },
     "execution_count": 25,
     "metadata": {},
     "output_type": "execute_result"
    }
   ],
   "source": [
    "X_train.head()\n"
   ]
  },
  {
   "cell_type": "markdown",
   "metadata": {
    "id": "ZjoNS5HEC--a"
   },
   "source": [
    "Next, fit a two-layer MLP classifier with 5 nodes on each layer."
   ]
  },
  {
   "cell_type": "code",
   "execution_count": 26,
   "metadata": {
    "_kg_hide-input": true,
    "execution": {
     "iopub.execute_input": "2023-02-10T09:48:55.816153Z",
     "iopub.status.busy": "2023-02-10T09:48:55.815810Z",
     "iopub.status.idle": "2023-02-10T09:48:56.778276Z",
     "shell.execute_reply": "2023-02-10T09:48:56.777513Z",
     "shell.execute_reply.started": "2023-02-10T09:48:55.816119Z"
    },
    "id": "4DOCjjojC--b"
   },
   "outputs": [
    {
     "data": {
      "text/plain": [
       "0.8557692307692307"
      ]
     },
     "execution_count": 26,
     "metadata": {},
     "output_type": "execute_result"
    }
   ],
   "source": [
    "reg = MLPClassifier(max_iter=1000, hidden_layer_sizes=(5,5), random_state=1)\n",
    "reg.fit(X_train, y_train)\n",
    "y_pred = reg.predict(X_test)\n",
    "accuracy_score(y_pred,y_test)"
   ]
  },
  {
   "cell_type": "markdown",
   "metadata": {
    "id": "d9JSJd2oC--f"
   },
   "source": [
    "We can see that there is a strong signal in the data. A score of 86% for an unoptimised MLP is very good. The model\n",
    "is probably overfit, so we will do some high-level tests on number of nodes per layer. We will do a more advanced\n",
    "hyper-parameter optimisation exercise using GridSearch in a later Notebook."
   ]
  },
  {
   "cell_type": "code",
   "execution_count": 27,
   "metadata": {
    "_kg_hide-input": true,
    "execution": {
     "iopub.execute_input": "2023-02-10T09:48:56.782663Z",
     "iopub.status.busy": "2023-02-10T09:48:56.782151Z",
     "iopub.status.idle": "2023-02-10T09:49:08.372725Z",
     "shell.execute_reply": "2023-02-10T09:49:08.371599Z",
     "shell.execute_reply.started": "2023-02-10T09:48:56.782611Z"
    },
    "id": "MQH9arkAs1R4"
   },
   "outputs": [
    {
     "name": "stdout",
     "output_type": "stream",
     "text": [
      "Nodes |Validation\n",
      "      | score\n",
      "(3, 3) : 0.80547\n",
      "(3, 4) : 0.81672\n",
      "(3, 5) : 0.81190\n",
      "(4, 3) : 0.82154\n",
      "(4, 4) : 0.82315\n",
      "(4, 5) : 0.81350\n",
      "(5, 3) : 0.82797\n",
      "(5, 4) : 0.81029\n",
      "(5, 5) : 0.82154\n"
     ]
    }
   ],
   "source": [
    "validation_scores = {}\n",
    "print(\"Nodes |Validation\")\n",
    "print(\"      | score\")\n",
    "\n",
    "for hidden_layer_size in [(i,j) for i in range(3,6) for j in range(3,6)]:\n",
    "\n",
    "    reg = MLPClassifier(max_iter=10000, hidden_layer_sizes=hidden_layer_size, random_state=1)\n",
    "\n",
    "    score = cross_val_score(estimator=reg, X=X_train, y=y_train, cv=2)\n",
    "    validation_scores[hidden_layer_size] = score.mean()\n",
    "    print(hidden_layer_size, \": %0.5f\" % validation_scores[hidden_layer_size])"
   ]
  },
  {
   "cell_type": "code",
   "execution_count": 28,
   "metadata": {
    "_kg_hide-input": true,
    "execution": {
     "iopub.execute_input": "2023-02-10T09:49:08.374661Z",
     "iopub.status.busy": "2023-02-10T09:49:08.374365Z",
     "iopub.status.idle": "2023-02-10T09:49:08.381106Z",
     "shell.execute_reply": "2023-02-10T09:49:08.380183Z",
     "shell.execute_reply.started": "2023-02-10T09:49:08.374631Z"
    },
    "id": "vjN46whNs1R6"
   },
   "outputs": [
    {
     "name": "stdout",
     "output_type": "stream",
     "text": [
      "The highest validation score is: 0.8280\n",
      "This corresponds to nodes (5, 3)\n"
     ]
    }
   ],
   "source": [
    "# Check scores\n",
    "print(\"The highest validation score is: %0.4f\" % max(validation_scores.values()))  \n",
    "optimal_hidden_layer_size = [name for name, score in validation_scores.items() \n",
    "                              if score==max(validation_scores.values())][0]\n",
    "print(\"This corresponds to nodes\", optimal_hidden_layer_size )"
   ]
  },
  {
   "cell_type": "markdown",
   "metadata": {
    "id": "J0idMBDfs1SA"
   },
   "source": [
    "As expected the model was overfit. The reduced number of nodes is an indication of better fit on the validation data\n",
    "by a less complex model."
   ]
  },
  {
   "cell_type": "code",
   "execution_count": 29,
   "metadata": {
    "_kg_hide-input": true,
    "execution": {
     "iopub.execute_input": "2023-02-10T09:49:08.382568Z",
     "iopub.status.busy": "2023-02-10T09:49:08.382273Z",
     "iopub.status.idle": "2023-02-10T09:49:09.052659Z",
     "shell.execute_reply": "2023-02-10T09:49:09.051924Z",
     "shell.execute_reply.started": "2023-02-10T09:49:08.382539Z"
    },
    "jupyter": {
     "outputs_hidden": false
    },
    "pycharm": {
     "name": "#%%\n"
    }
   },
   "outputs": [
    {
     "data": {
      "text/plain": [
       "MLPClassifier(hidden_layer_sizes=(5, 3), max_iter=1000, random_state=1)"
      ]
     },
     "execution_count": 29,
     "metadata": {},
     "output_type": "execute_result"
    }
   ],
   "source": [
    "clf_best = MLPClassifier(max_iter=1000, hidden_layer_sizes=optimal_hidden_layer_size, random_state=1)\n",
    "clf_best.fit(X_train, y_train)"
   ]
  },
  {
   "cell_type": "code",
   "execution_count": 30,
   "metadata": {
    "_kg_hide-input": true,
    "execution": {
     "iopub.execute_input": "2023-02-10T09:49:09.053903Z",
     "iopub.status.busy": "2023-02-10T09:49:09.053608Z",
     "iopub.status.idle": "2023-02-10T09:49:09.062457Z",
     "shell.execute_reply": "2023-02-10T09:49:09.061198Z",
     "shell.execute_reply.started": "2023-02-10T09:49:09.053852Z"
    },
    "id": "0h9ihZ6_k9_b"
   },
   "outputs": [
    {
     "data": {
      "text/plain": [
       "0.8557692307692307"
      ]
     },
     "execution_count": 30,
     "metadata": {},
     "output_type": "execute_result"
    }
   ],
   "source": [
    "y_pred = clf_best.predict(X_test)\n",
    "accuracy_score(y_pred,y_test)"
   ]
  },
  {
   "cell_type": "markdown",
   "metadata": {
    "id": "q6WhyBntC--w"
   },
   "source": [
    "The accuracy score on the optimised model slightly reduced. This is not a bad thing as the dataset is small and a\n",
    "more robust model is preferred over a more accurate overfit model.\n",
    "\n",
    "We will now fit a voting classifier to compare our MLP results with a few other models. Just to compare to a few\n",
    "other models."
   ]
  },
  {
   "cell_type": "code",
   "execution_count": 52,
   "metadata": {
    "_kg_hide-input": true,
    "execution": {
     "iopub.execute_input": "2023-02-10T10:19:19.638708Z",
     "iopub.status.busy": "2023-02-10T10:19:19.638045Z",
     "iopub.status.idle": "2023-02-10T10:19:19.803566Z",
     "shell.execute_reply": "2023-02-10T10:19:19.802427Z",
     "shell.execute_reply.started": "2023-02-10T10:19:19.638654Z"
    },
    "jupyter": {
     "outputs_hidden": false
    },
    "pycharm": {
     "name": "#%%\n"
    }
   },
   "outputs": [
    {
     "name": "stdout",
     "output_type": "stream",
     "text": [
      "LogisticRegression 0.8509615384615384\n",
      "RandomForestClassifier 0.8076923076923077\n",
      "SVC 0.8557692307692307\n",
      "VotingClassifier 0.8605769230769231\n"
     ]
    }
   ],
   "source": [
    "log_clf = LogisticRegression(solver=\"liblinear\", random_state=42)\n",
    "rnd_clf = RandomForestClassifier(n_estimators=10, random_state=42)\n",
    "svm_clf = SVC(gamma=\"auto\", random_state=42)\n",
    "model_name = ['LogisticRegression', 'RandomForestClassifier', 'SVC', 'Final']\n",
    "\n",
    "voting_clf = VotingClassifier(\n",
    "    estimators=[('lr', log_clf), ('rf', rnd_clf), ('svc', svm_clf)],\n",
    "    voting='hard')\n",
    "\n",
    "voting_clf.fit(X_train, y_train)\n",
    "\n",
    "accuracy = []\n",
    "for clf in (log_clf, rnd_clf, svm_clf, voting_clf):\n",
    "    clf.fit(X_train, y_train)\n",
    "    y_pred = clf.predict(X_test)\n",
    "    acc_score = accuracy_score(y_test, y_pred)\n",
    "    accuracy.append(acc_score)\n",
    "    print(clf.__class__.__name__, acc_score)"
   ]
  },
  {
   "cell_type": "code",
   "execution_count": 54,
   "metadata": {
    "execution": {
     "iopub.execute_input": "2023-02-10T10:22:31.209189Z",
     "iopub.status.busy": "2023-02-10T10:22:31.208563Z",
     "iopub.status.idle": "2023-02-10T10:22:31.227308Z",
     "shell.execute_reply": "2023-02-10T10:22:31.226114Z",
     "shell.execute_reply.started": "2023-02-10T10:22:31.209134Z"
    }
   },
   "outputs": [
    {
     "name": "stdout",
     "output_type": "stream",
     "text": [
      "[[88 21]\n",
      " [ 9 90]]\n",
      "              precision    recall  f1-score   support\n",
      "\n",
      "           0       0.91      0.81      0.85       109\n",
      "           1       0.81      0.91      0.86        99\n",
      "\n",
      "    accuracy                           0.86       208\n",
      "   macro avg       0.86      0.86      0.86       208\n",
      "weighted avg       0.86      0.86      0.86       208\n",
      "\n"
     ]
    }
   ],
   "source": [
    "# Call the prediction function\n",
    "y_pred = svm_clf.predict(X_test)\n",
    "\n",
    "# Display the confusion matrix to check result (accuracy and so on)\n",
    "from sklearn.metrics import classification_report, confusion_matrix\n",
    "print(confusion_matrix(y_test, y_pred))\n",
    "print(classification_report(y_test, y_pred))"
   ]
  },
  {
   "cell_type": "code",
   "execution_count": 55,
   "metadata": {
    "execution": {
     "iopub.execute_input": "2023-02-10T10:23:54.402180Z",
     "iopub.status.busy": "2023-02-10T10:23:54.401773Z",
     "iopub.status.idle": "2023-02-10T10:23:54.415180Z",
     "shell.execute_reply": "2023-02-10T10:23:54.413964Z",
     "shell.execute_reply.started": "2023-02-10T10:23:54.402145Z"
    }
   },
   "outputs": [
    {
     "name": "stdout",
     "output_type": "stream",
     "text": [
      "[[89 20]\n",
      " [11 88]]\n",
      "              precision    recall  f1-score   support\n",
      "\n",
      "           0       0.89      0.82      0.85       109\n",
      "           1       0.81      0.89      0.85        99\n",
      "\n",
      "    accuracy                           0.85       208\n",
      "   macro avg       0.85      0.85      0.85       208\n",
      "weighted avg       0.85      0.85      0.85       208\n",
      "\n"
     ]
    }
   ],
   "source": [
    "# Call the prediction function\n",
    "y_pred = log_clf.predict(X_test)\n",
    "\n",
    "# Display the confusion matrix to check result (accuracy and so on)\n",
    "from sklearn.metrics import classification_report, confusion_matrix\n",
    "print(confusion_matrix(y_test, y_pred))\n",
    "print(classification_report(y_test, y_pred))"
   ]
  },
  {
   "cell_type": "code",
   "execution_count": 56,
   "metadata": {
    "execution": {
     "iopub.execute_input": "2023-02-10T10:25:19.196185Z",
     "iopub.status.busy": "2023-02-10T10:25:19.195755Z",
     "iopub.status.idle": "2023-02-10T10:25:19.211445Z",
     "shell.execute_reply": "2023-02-10T10:25:19.210509Z",
     "shell.execute_reply.started": "2023-02-10T10:25:19.196143Z"
    }
   },
   "outputs": [
    {
     "name": "stdout",
     "output_type": "stream",
     "text": [
      "[[88 21]\n",
      " [19 80]]\n",
      "              precision    recall  f1-score   support\n",
      "\n",
      "           0       0.82      0.81      0.81       109\n",
      "           1       0.79      0.81      0.80        99\n",
      "\n",
      "    accuracy                           0.81       208\n",
      "   macro avg       0.81      0.81      0.81       208\n",
      "weighted avg       0.81      0.81      0.81       208\n",
      "\n"
     ]
    }
   ],
   "source": [
    "# Call the prediction function\n",
    "y_pred = rnd_clf.predict(X_test)\n",
    "\n",
    "# Display the confusion matrix to check result (accuracy and so on)\n",
    "from sklearn.metrics import classification_report, confusion_matrix\n",
    "print(confusion_matrix(y_test, y_pred))\n",
    "print(classification_report(y_test, y_pred))"
   ]
  },
  {
   "cell_type": "code",
   "execution_count": 32,
   "metadata": {
    "_kg_hide-input": true,
    "execution": {
     "iopub.execute_input": "2023-02-10T09:49:09.233488Z",
     "iopub.status.busy": "2023-02-10T09:49:09.233186Z",
     "iopub.status.idle": "2023-02-10T09:49:09.387106Z",
     "shell.execute_reply": "2023-02-10T09:49:09.385806Z",
     "shell.execute_reply.started": "2023-02-10T09:49:09.233459Z"
    },
    "jupyter": {
     "outputs_hidden": false
    },
    "pycharm": {
     "name": "#%%\n"
    }
   },
   "outputs": [
    {
     "data": {
      "text/plain": [
       "Text(0.5, 1.0, 'Voting Classifier Results')"
      ]
     },
     "execution_count": 32,
     "metadata": {},
     "output_type": "execute_result"
    },
    {
     "data": {
      "image/png": "[encoded data removed]",
      "text/plain": [
       "<Figure size 720x360 with 1 Axes>"
      ]
     },
     "metadata": {
      "needs_background": "light"
     },
     "output_type": "display_data"
    }
   ],
   "source": [
    "plt.figure(figsize = (10,5))\n",
    "sns.barplot(x = accuracy, y = model_name, palette='deep')\n",
    "plt.title(\"Voting Classifier Results\", fontsize=16)"
   ]
  },
  {
   "cell_type": "markdown",
   "metadata": {
    "pycharm": {
     "name": "#%% md\n"
    }
   },
   "source": [
    "The Support Vector Machine narrowly won over the Logistic Regression. There seems to be a fairly linear\n",
    "relationship between features and responses. Our future EDA will probably confirm this.\n",
    "\n",
    "Voting Classifiers enable an easy way of quickly comparing various models. A very useful tool indeed!\n",
    "\n",
    "We now draw the response curves, based on our optimised MLP results."
   ]
  },
  {
   "cell_type": "code",
   "execution_count": 33,
   "metadata": {
    "_kg_hide-input": true,
    "execution": {
     "iopub.execute_input": "2023-02-10T09:49:09.388926Z",
     "iopub.status.busy": "2023-02-10T09:49:09.388545Z",
     "iopub.status.idle": "2023-02-10T09:49:09.715610Z",
     "shell.execute_reply": "2023-02-10T09:49:09.714502Z",
     "shell.execute_reply.started": "2023-02-10T09:49:09.388883Z"
    },
    "jupyter": {
     "outputs_hidden": false
    },
    "pycharm": {
     "name": "#%%\n"
    }
   },
   "outputs": [
    {
     "data": {
      "image/png": "[encoded data removed]",
      "text/plain": [
       "<Figure size 432x288 with 1 Axes>"
      ]
     },
     "metadata": {
      "needs_background": "light"
     },
     "output_type": "display_data"
    }
   ],
   "source": [
    "X_design = X.copy()\n",
    "X_design_vec = pd.DataFrame(X_design.mean()).transpose()\n",
    "\n",
    "margin= range(4,9)\n",
    "\n",
    "for i in margin:\n",
    "    X_design_vec.loc[0,[\"margin_2\",\"margin_3\",\"margin_4\",\"margin_5\"]]=[0,0,0,0]\n",
    "    if i!=4:\n",
    "        X_design_vec.iloc[0,i]=1\n",
    "\n",
    "    min_resultant = min(X.loc[:,\"age\"])\n",
    "    max_resultant = max(X.loc[:,\"age\"])\n",
    "    seq = np.linspace(start=min_resultant,stop=max_resultant,num=50)\n",
    "\n",
    "    to_predict = []\n",
    "    for result in seq:\n",
    "        X_design_vec.loc[0,\"age\"] = result\n",
    "        to_predict.append(X_design_vec.copy())\n",
    "\n",
    "    to_predict = pd.concat(to_predict)\n",
    "\n",
    "    to_predict = scaler.transform(to_predict)\n",
    "    predictions = clf_best.predict_proba(to_predict)\n",
    "    plt.plot(seq,predictions[:,1])\n",
    "plt.xlabel(\"Age\")\n",
    "plt.ylabel(\"Probability of malignancy\")\n",
    "plt.title(\"Probability of malignancy vs. Age with alternate margins\")\n",
    "plt.legend(labels=[\"circumscribed\",\"microlobulated\",\"obscured\",\"ill-defined\",\"spiculated\"],loc='best')\n",
    "plt.show()\n"
   ]
  },
  {
   "cell_type": "markdown",
   "metadata": {
    "pycharm": {
     "name": "#%% md\n"
    }
   },
   "source": [
    "The curves clearly indicate an increase in probability of cancer as age increase, which makes sense. The model\n",
    "therefore captures this signal correctly, which is a good confirmation. Interesting to see the difference in\n",
    "relationship with the response for the different margin variables. The margins all converge to similar probabilities\n",
    "for older ages. The spiculated margin is associated more strongly with cancer in younger patients.\n",
    "The circumscribed and microlobulated margins have a much higher probability for older ages than any of the others,\n",
    "even though it is the lowest for lower ages. Clearly strong age related predictors.\n",
    "\n",
    "This analysis showed some interesting results based on a very few variables. More EDA is certain to show more\n",
    "interesting patterns in the data.\n",
    "\n",
    "On to the next Notebook!"
   ]
  },
  {
   "cell_type": "code",
   "execution_count": 34,
   "metadata": {
    "execution": {
     "iopub.execute_input": "2023-02-10T09:49:09.717446Z",
     "iopub.status.busy": "2023-02-10T09:49:09.717094Z",
     "iopub.status.idle": "2023-02-10T09:49:09.721484Z",
     "shell.execute_reply": "2023-02-10T09:49:09.720506Z",
     "shell.execute_reply.started": "2023-02-10T09:49:09.717411Z"
    }
   },
   "outputs": [],
   "source": [
    "from sklearn.metrics import f1_score\n",
    "from sklearn.metrics import confusion_matrix"
   ]
  },
  {
   "cell_type": "code",
   "execution_count": 35,
   "metadata": {
    "execution": {
     "iopub.execute_input": "2023-02-10T09:49:09.723690Z",
     "iopub.status.busy": "2023-02-10T09:49:09.723226Z",
     "iopub.status.idle": "2023-02-10T09:49:09.941930Z",
     "shell.execute_reply": "2023-02-10T09:49:09.940887Z",
     "shell.execute_reply.started": "2023-02-10T09:49:09.723641Z"
    }
   },
   "outputs": [
    {
     "data": {
      "text/plain": [
       "0.861244019138756"
      ]
     },
     "execution_count": 35,
     "metadata": {},
     "output_type": "execute_result"
    },
    {
     "data": {
      "image/png": "[encoded data removed]",
      "text/plain": [
       "<Figure size 432x288 with 2 Axes>"
      ]
     },
     "metadata": {
      "needs_background": "light"
     },
     "output_type": "display_data"
    }
   ],
   "source": [
    "sns.heatmap(confusion_matrix(clf.predict(X_test), y_test),annot=True)\n",
    "f1_score(clf.predict(X_test), y_test)"
   ]
  },
  {
   "cell_type": "code",
   "execution_count": null,
   "metadata": {},
   "outputs": [],
   "source": []
  }
 ],
 "metadata": {
  "kernelspec": {
   "display_name": "Python 3 (ipykernel)",
   "language": "python",
   "name": "python3"
  },
  "language_info": {
   "codemirror_mode": {
    "name": "ipython",
    "version": 3
   },
   "file_extension": ".py",
   "mimetype": "text/x-python",
   "name": "python",
   "nbconvert_exporter": "python",
   "pygments_lexer": "ipython3",
   "version": "3.9.12"
  }
 },
 "nbformat": 4,
 "nbformat_minor": 4
}
